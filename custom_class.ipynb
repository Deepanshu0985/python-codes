{
 "cells": [
  {
   "cell_type": "code",
   "execution_count": 3,
   "id": "14b91be6",
   "metadata": {},
   "outputs": [],
   "source": [
    "import ctypes"
   ]
  },
  {
   "cell_type": "code",
   "execution_count": null,
   "id": "1e4bf98f",
   "metadata": {},
   "outputs": [],
   "source": [
    "class CustomList:\n",
    "    def __init__(self):\n",
    "        self.size=0\n",
    "        self.initial_capacity=1\n",
    "        self.capacity = self.initial_capacity\n",
    "        self.array = self.create_Array(self.capacity)\n",
    "    \n",
    "    def create_Array(self,capacity):\n",
    "        return (ctypes.py_object * capacity)()\n",
    "    \n",
    "    def __resize(self,new_capacity):\n",
    "        new_array = self.create_Array(new_capacity)\n",
    "        for i in range(self.size):\n",
    "            new_array[i] = self.array[i]\n",
    "        self.array = new_array\n",
    "        self.capacity = new_capacity\n",
    "        \n",
    "        \n",
    "        \n",
    "    def append(self, value):\n",
    "        if self.size == self.capacity:\n",
    "            self.__resize(2 * self.capacity)\n",
    "        self.array[self.size] = value\n",
    "        self.size += 1\n",
    "    \n",
    "    def __len__(self):\n",
    "        return self.size\n",
    "    \n",
    "    def pop(self):\n",
    "        if self.size == 0:\n",
    "            raise IndexError(\"pop from empty list\")\n",
    "        value = self.array[self.size - 1]\n",
    "        self.array[self.size - 1] = None\n",
    "        self.size -= 1\n",
    "        print(\"popped value is : \",value)\n",
    "    \n",
    "    def __str__(self):\n",
    "        return \"[\" + \", \".join(str(self.array[i]) for i in range(self.size)) + \"]\"\n",
    "    \n",
    "    def __getitem__(self,index):\n",
    "        if index >=0 and index <self.size:\n",
    "            return self.array[index]\n",
    "        else:\n",
    "            return \"Index Error: Index out of range\"\n",
    "    \n",
    "    def clear(self):\n",
    "        self.size = 0\n",
    "        \n",
    "    def insert(self,pos,element):\n",
    "        if self.size == self.capacity:\n",
    "            self.__resize(2 * self.capacity)\n",
    "            \n",
    "        for index in range(self.size,pos,-1):\n",
    "            self.array[index] = self.array[index-1]\n",
    "        \n",
    "        self.array[pos] = element\n",
    "        self.size +=1\n",
    "    def remove(self, element):\n",
    "        for i in range(self.size):\n",
    "            if self.array[i] == element:\n",
    "                for j in range(i, self.size - 1):\n",
    "                    self.array[j] = self.array[j + 1]\n",
    "                self.size -= 1\n",
    "                return\n",
    "            return 'Element not found'\n",
    "\n",
    "             \n",
    "        \n",
    "        \n",
    "        "
   ]
  },
  {
   "cell_type": "code",
   "execution_count": 50,
   "id": "569e2a7e",
   "metadata": {},
   "outputs": [
    {
     "name": "stdout",
     "output_type": "stream",
     "text": [
      "[1, 2, 3]\n",
      "popped value is :  3\n",
      "[1, 2, 4, 5, 6, 7, 8]\n",
      "[1, 2, 4, 5, 6, 7, 8]\n"
     ]
    }
   ],
   "source": [
    "l1 = CustomList()\n",
    "l1.append(1)\n",
    "l1.append(2)\n",
    "l1.append(3)\n",
    "print(l1)  # Output: [1, 2, 3]\n",
    "l1.pop()\n",
    "l1.append(4)\n",
    "l1.append(5)\n",
    "l1.append(6)\n",
    "l1.append(7)\n",
    "l1.append(8)\n",
    "print(l1)\n",
    "# l1.clear()\n",
    "print(l1)"
   ]
  },
  {
   "cell_type": "code",
   "execution_count": 53,
   "id": "5d97cb60",
   "metadata": {},
   "outputs": [
    {
     "name": "stdout",
     "output_type": "stream",
     "text": [
      "[1, 2, 90, 4, 5, 6, 7, 8]\n"
     ]
    }
   ],
   "source": [
    "l1.insert(2,90)\n",
    "print(l1)"
   ]
  },
  {
   "cell_type": "code",
   "execution_count": 54,
   "id": "1b95d47d",
   "metadata": {},
   "outputs": [],
   "source": [
    "l1.remove(90)"
   ]
  },
  {
   "cell_type": "code",
   "execution_count": 55,
   "id": "e3e50d27",
   "metadata": {},
   "outputs": [
    {
     "name": "stdout",
     "output_type": "stream",
     "text": [
      "[1, 2, 4, 5, 6, 7, 8]\n"
     ]
    }
   ],
   "source": [
    "print(l1)"
   ]
  },
  {
   "cell_type": "code",
   "execution_count": null,
   "id": "be0c5d0f",
   "metadata": {},
   "outputs": [],
   "source": []
  },
  {
   "cell_type": "code",
   "execution_count": null,
   "id": "79924e0f",
   "metadata": {},
   "outputs": [],
   "source": []
  },
  {
   "cell_type": "code",
   "execution_count": null,
   "id": "41ee7d1f",
   "metadata": {},
   "outputs": [],
   "source": []
  },
  {
   "cell_type": "code",
   "execution_count": null,
   "id": "97143976",
   "metadata": {},
   "outputs": [],
   "source": []
  },
  {
   "cell_type": "code",
   "execution_count": null,
   "id": "d9b680fd",
   "metadata": {},
   "outputs": [],
   "source": []
  },
  {
   "cell_type": "code",
   "execution_count": null,
   "id": "2cc0ed4c",
   "metadata": {},
   "outputs": [],
   "source": []
  },
  {
   "cell_type": "code",
   "execution_count": null,
   "id": "6a2cc7a1",
   "metadata": {},
   "outputs": [],
   "source": []
  }
 ],
 "metadata": {
  "kernelspec": {
   "display_name": "Python 3",
   "language": "python",
   "name": "python3"
  },
  "language_info": {
   "codemirror_mode": {
    "name": "ipython",
    "version": 3
   },
   "file_extension": ".py",
   "mimetype": "text/x-python",
   "name": "python",
   "nbconvert_exporter": "python",
   "pygments_lexer": "ipython3",
   "version": "3.13.5"
  }
 },
 "nbformat": 4,
 "nbformat_minor": 5
}

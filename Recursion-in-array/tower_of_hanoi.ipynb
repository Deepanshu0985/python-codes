{
 "cells": [
  {
   "cell_type": "code",
   "execution_count": null,
   "id": "a6c06154",
   "metadata": {},
   "outputs": [],
   "source": [
    "def tower_of_hanoi(source, destination, auxiliary, n):\n",
    "    if n == 0:\n",
    "        return\n",
    "    \n",
    "    if n == 1:\n",
    "        print(f\"{source} -> {destination}\")\n",
    "        return\n",
    "    \n",
    "    tower_of_hanoi(source, auxiliary, destination, n-1)\n",
    "    print(f\"{source} -> {destination}\")\n",
    "    tower_of_hanoi(auxiliary, destination, source, n-1)\n",
    "\n",
    "\n"
   ]
  },
  {
   "cell_type": "code",
   "execution_count": 12,
   "id": "ab3795e0",
   "metadata": {},
   "outputs": [
    {
     "name": "stdout",
     "output_type": "stream",
     "text": [
      "A -> B\n",
      "A -> C\n",
      "B -> C\n",
      "A -> B\n",
      "C -> A\n",
      "C -> B\n",
      "A -> B\n"
     ]
    }
   ],
   "source": [
    "tower_of_hanoi('A','B','C',3)"
   ]
  },
  {
   "cell_type": "code",
   "execution_count": null,
   "id": "615225c0",
   "metadata": {},
   "outputs": [],
   "source": []
  }
 ],
 "metadata": {
  "kernelspec": {
   "display_name": "Python 3",
   "language": "python",
   "name": "python3"
  },
  "language_info": {
   "codemirror_mode": {
    "name": "ipython",
    "version": 3
   },
   "file_extension": ".py",
   "mimetype": "text/x-python",
   "name": "python",
   "nbconvert_exporter": "python",
   "pygments_lexer": "ipython3",
   "version": "3.13.5"
  }
 },
 "nbformat": 4,
 "nbformat_minor": 5
}

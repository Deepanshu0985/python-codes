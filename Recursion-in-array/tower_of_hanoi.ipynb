{
 "cells": [
  {
   "cell_type": "code",
   "execution_count": null,
   "id": "a6c06154",
   "metadata": {},
   "outputs": [],
   "source": [
    "def tower_of_hanoi(source,destination,auxilary,n):\n",
    "    if n==0 :\n",
    "        return\n",
    "    if n==1:\n",
    "        print(f\"{source + \"->->->->->\" + destination}\")\n",
    "        \n",
    "    tower_of_hanoi(source,auxilary,destination,n-1)\n",
    "    print(f\"{source + \"->->->->->\" + destination}\")\n",
    "    tower_of_hanoi(auxilary,source,destination,n-1)\n",
    "    "
   ]
  },
  {
   "cell_type": "code",
   "execution_count": null,
   "id": "ab3795e0",
   "metadata": {},
   "outputs": [],
   "source": []
  }
 ],
 "metadata": {
  "kernelspec": {
   "display_name": "Python 3",
   "language": "python",
   "name": "python3"
  },
  "language_info": {
   "codemirror_mode": {
    "name": "ipython",
    "version": 3
   },
   "file_extension": ".py",
   "mimetype": "text/x-python",
   "name": "python",
   "nbconvert_exporter": "python",
   "pygments_lexer": "ipython3",
   "version": "3.13.5"
  }
 },
 "nbformat": 4,
 "nbformat_minor": 5
}

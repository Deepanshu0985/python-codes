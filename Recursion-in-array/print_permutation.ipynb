{
 "cells": [
  {
   "cell_type": "code",
   "execution_count": 2,
   "id": "c9f375a7",
   "metadata": {},
   "outputs": [],
   "source": [
    "def printpermutation(s,taken):\n",
    "    if len(s)==0:\n",
    "        print(taken)\n",
    "        return\n",
    "    for i in range(0,len(taken)+1):\n",
    "        printpermutation(s[1:],taken[0:i]+s[0]+taken[i:])\n",
    "    return\n",
    "    "
   ]
  },
  {
   "cell_type": "code",
   "execution_count": 3,
   "id": "dc185fe4",
   "metadata": {},
   "outputs": [
    {
     "name": "stdout",
     "output_type": "stream",
     "text": [
      "dcba\n",
      "cdba\n",
      "cbda\n",
      "cbad\n",
      "dbca\n",
      "bdca\n",
      "bcda\n",
      "bcad\n",
      "dbac\n",
      "bdac\n",
      "badc\n",
      "bacd\n",
      "dcab\n",
      "cdab\n",
      "cadb\n",
      "cabd\n",
      "dacb\n",
      "adcb\n",
      "acdb\n",
      "acbd\n",
      "dabc\n",
      "adbc\n",
      "abdc\n",
      "abcd\n"
     ]
    }
   ],
   "source": [
    "printpermutation('abcd','')"
   ]
  },
  {
   "cell_type": "code",
   "execution_count": null,
   "id": "7b6f2774",
   "metadata": {},
   "outputs": [],
   "source": []
  },
  {
   "cell_type": "code",
   "execution_count": null,
   "id": "483f5dd8",
   "metadata": {},
   "outputs": [],
   "source": []
  }
 ],
 "metadata": {
  "kernelspec": {
   "display_name": "Python 3",
   "language": "python",
   "name": "python3"
  },
  "language_info": {
   "codemirror_mode": {
    "name": "ipython",
    "version": 3
   },
   "file_extension": ".py",
   "mimetype": "text/x-python",
   "name": "python",
   "nbconvert_exporter": "python",
   "pygments_lexer": "ipython3",
   "version": "3.13.5"
  }
 },
 "nbformat": 4,
 "nbformat_minor": 5
}

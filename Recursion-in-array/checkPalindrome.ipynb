{
 "cells": [
  {
   "cell_type": "code",
   "execution_count": null,
   "id": "ece5273d",
   "metadata": {},
   "outputs": [],
   "source": [
    "def checkpalindrome(str,l,r):\n",
    "    if str=='':\n",
    "        return False\n",
    "    if l>=r:\n",
    "        return True\n",
    "    if str[l]==str[r]:\n",
    "        return checkpalindrome(str,l+1,r-1)\n",
    "    else:\n",
    "        return False\n",
    "        \n",
    "    "
   ]
  },
  {
   "cell_type": "code",
   "execution_count": 7,
   "id": "addef4ba",
   "metadata": {},
   "outputs": [],
   "source": [
    "checkpalindrome(\"malaylam\",0,len(\"malaylam\")-1)"
   ]
  },
  {
   "cell_type": "code",
   "execution_count": null,
   "id": "8739480d",
   "metadata": {},
   "outputs": [],
   "source": []
  }
 ],
 "metadata": {
  "kernelspec": {
   "display_name": "Python 3",
   "language": "python",
   "name": "python3"
  },
  "language_info": {
   "codemirror_mode": {
    "name": "ipython",
    "version": 3
   },
   "file_extension": ".py",
   "mimetype": "text/x-python",
   "name": "python",
   "nbconvert_exporter": "python",
   "pygments_lexer": "ipython3",
   "version": "3.13.5"
  }
 },
 "nbformat": 4,
 "nbformat_minor": 5
}

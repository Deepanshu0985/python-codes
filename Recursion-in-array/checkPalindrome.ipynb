{
 "cells": [
  {
   "cell_type": "code",
   "execution_count": 21,
   "id": "ece5273d",
   "metadata": {},
   "outputs": [],
   "source": [
    "def checkpalindrome(str,l,r):\n",
    "    if str=='':\n",
    "        return False\n",
    "    if l>=r:\n",
    "        return True\n",
    "    if str[l]==str[r]:\n",
    "        return checkpalindrome(str,l+1,r-1)\n",
    "    else:\n",
    "        return False\n",
    "        \n",
    "    "
   ]
  },
  {
   "cell_type": "code",
   "execution_count": 22,
   "id": "addef4ba",
   "metadata": {},
   "outputs": [
    {
     "data": {
      "text/plain": [
       "False"
      ]
     },
     "execution_count": 22,
     "metadata": {},
     "output_type": "execute_result"
    }
   ],
   "source": [
    "checkpalindrome(\"malaylam\",0,len(\"malaylam\")-1)"
   ]
  },
  {
   "cell_type": "code",
   "execution_count": null,
   "id": "8739480d",
   "metadata": {},
   "outputs": [
    {
     "name": "stdout",
     "output_type": "stream",
     "text": [
      "5.551115123125783e-17\n"
     ]
    }
   ],
   "source": [
    "\n"
   ]
  },
  {
   "cell_type": "code",
   "execution_count": null,
   "id": "0280d0b3",
   "metadata": {},
   "outputs": [],
   "source": []
  }
 ],
 "metadata": {
  "kernelspec": {
   "display_name": "Python 3",
   "language": "python",
   "name": "python3"
  },
  "language_info": {
   "codemirror_mode": {
    "name": "ipython",
    "version": 3
   },
   "file_extension": ".py",
   "mimetype": "text/x-python",
   "name": "python",
   "nbconvert_exporter": "python",
   "pygments_lexer": "ipython3",
   "version": "3.13.5"
  }
 },
 "nbformat": 4,
 "nbformat_minor": 5
}

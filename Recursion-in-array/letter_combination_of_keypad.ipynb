{
 "cells": [
  {
   "cell_type": "code",
   "execution_count": 3,
   "id": "c13d572a",
   "metadata": {},
   "outputs": [],
   "source": [
    "class Solution:\n",
    "    keys = {'1':\"\",'2':'abc','3':'def','4':'ghi','5':'jkl','6':'mno','7':'pqrs','8':'tuv','9':'wxyz'}\n",
    "    def printcomb(self,input:str):\n",
    "        if input =='':\n",
    "            return ['']\n",
    "        result = []\n",
    "        inputword = self.printcomb(input[1:])\n",
    "        keyletter = self.keys[input[0]]\n",
    "        for word in inputword:\n",
    "            for char in keyletter:\n",
    "                result.append(char+word)\n",
    "       \n",
    "        return result\n",
    "        \n",
    "\n",
    "\n",
    "    def letterCombinations(self, digits: str):\n",
    "        input = str(digits)\n",
    "        result = self.printcomb(input)\n",
    "        if result == [\"\"]:\n",
    "            return []\n",
    "        return result\n",
    "\n",
    "        "
   ]
  },
  {
   "cell_type": "code",
   "execution_count": 5,
   "id": "ea6295bd",
   "metadata": {},
   "outputs": [],
   "source": [
    "obj = Solution()"
   ]
  },
  {
   "cell_type": "code",
   "execution_count": 15,
   "id": "5d238a27",
   "metadata": {},
   "outputs": [],
   "source": [
    "result = obj.letterCombinations(968)"
   ]
  },
  {
   "cell_type": "code",
   "execution_count": 17,
   "id": "9edc2644",
   "metadata": {},
   "outputs": [
    {
     "name": "stdout",
     "output_type": "stream",
     "text": [
      "you\n"
     ]
    }
   ],
   "source": [
    "if 'you' in result:\n",
    "    print (\"you\")"
   ]
  },
  {
   "cell_type": "code",
   "execution_count": null,
   "id": "d22c2e7c",
   "metadata": {},
   "outputs": [
    {
     "name": "stdout",
     "output_type": "stream",
     "text": [
      "3\n"
     ]
    }
   ],
   "source": []
  },
  {
   "cell_type": "code",
   "execution_count": null,
   "id": "28b9e222",
   "metadata": {},
   "outputs": [],
   "source": []
  }
 ],
 "metadata": {
  "kernelspec": {
   "display_name": "Python 3",
   "language": "python",
   "name": "python3"
  },
  "language_info": {
   "codemirror_mode": {
    "name": "ipython",
    "version": 3
   },
   "file_extension": ".py",
   "mimetype": "text/x-python",
   "name": "python",
   "nbconvert_exporter": "python",
   "pygments_lexer": "ipython3",
   "version": "3.13.5"
  }
 },
 "nbformat": 4,
 "nbformat_minor": 5
}

{
 "cells": [
  {
   "cell_type": "code",
   "execution_count": 3,
   "id": "c15fefea",
   "metadata": {},
   "outputs": [
    {
     "data": {
      "text/plain": [
       "[1, 3, 3, 1]"
      ]
     },
     "execution_count": 3,
     "metadata": {},
     "output_type": "execute_result"
    }
   ],
   "source": [
    "def getRow( rowIndex: int):\n",
    "    if rowIndex ==0:\n",
    "        return [1]\n",
    "    prevrow = getRow(rowIndex-1)\n",
    "    row = [1]\n",
    "    for i in range(1,len(prevrow)):\n",
    "        row.append(prevrow[i-1]+prevrow[i])\n",
    "    row.append(1)\n",
    "    return row\n",
    "\n",
    "getRow(3)"
   ]
  },
  {
   "cell_type": "code",
   "execution_count": null,
   "id": "1d8a72ef",
   "metadata": {},
   "outputs": [],
   "source": []
  }
 ],
 "metadata": {
  "kernelspec": {
   "display_name": "Python 3",
   "language": "python",
   "name": "python3"
  },
  "language_info": {
   "codemirror_mode": {
    "name": "ipython",
    "version": 3
   },
   "file_extension": ".py",
   "mimetype": "text/x-python",
   "name": "python",
   "nbconvert_exporter": "python",
   "pygments_lexer": "ipython3",
   "version": "3.13.5"
  }
 },
 "nbformat": 4,
 "nbformat_minor": 5
}

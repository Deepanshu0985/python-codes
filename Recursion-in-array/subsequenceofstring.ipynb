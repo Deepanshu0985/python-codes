{
 "cells": [
  {
   "cell_type": "code",
   "execution_count": 3,
   "id": "ce87d6a5",
   "metadata": {},
   "outputs": [],
   "source": [
    "def subsequenceofstring(s):\n",
    "    if s=='':\n",
    "        ans =['']\n",
    "        return ans\n",
    "    temp = subsequenceofstring(s[1:])\n",
    "    ans = []\n",
    "    ans.extend(temp)\n",
    "    for i in temp:\n",
    "        ans.append(s[0]+i)\n",
    "    return ans\n",
    "    "
   ]
  },
  {
   "cell_type": "code",
   "execution_count": 17,
   "id": "3fb3e0af",
   "metadata": {},
   "outputs": [
    {
     "name": "stdout",
     "output_type": "stream",
     "text": [
      "['', 'a', 'ab', 'abc', 'abcd', 'abcde', 'abce', 'abd', 'abde', 'abe', 'ac', 'acd', 'acde', 'ace', 'ad', 'ade', 'ae', 'b', 'bc', 'bcd', 'bcde', 'bce', 'bd', 'bde', 'be', 'c', 'cd', 'cde', 'ce', 'd', 'de', 'e']\n"
     ]
    }
   ],
   "source": [
    "ans = subsequenceofstring(\"abcde\")\n",
    "ans.sort()\n",
    "print(ans)"
   ]
  },
  {
   "cell_type": "code",
   "execution_count": null,
   "id": "f1255c67",
   "metadata": {},
   "outputs": [],
   "source": []
  },
  {
   "cell_type": "code",
   "execution_count": null,
   "id": "888a1696",
   "metadata": {},
   "outputs": [
    {
     "data": {
      "text/plain": [
       "12"
      ]
     },
     "execution_count": 21,
     "metadata": {},
     "output_type": "execute_result"
    }
   ],
   "source": [
    "\n"
   ]
  },
  {
   "cell_type": "code",
   "execution_count": null,
   "id": "a4ed782e",
   "metadata": {},
   "outputs": [],
   "source": []
  }
 ],
 "metadata": {
  "kernelspec": {
   "display_name": "Python 3",
   "language": "python",
   "name": "python3"
  },
  "language_info": {
   "codemirror_mode": {
    "name": "ipython",
    "version": 3
   },
   "file_extension": ".py",
   "mimetype": "text/x-python",
   "name": "python",
   "nbconvert_exporter": "python",
   "pygments_lexer": "ipython3",
   "version": "3.13.5"
  }
 },
 "nbformat": 4,
 "nbformat_minor": 5
}

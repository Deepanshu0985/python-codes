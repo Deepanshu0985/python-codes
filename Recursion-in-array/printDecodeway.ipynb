{
 "cells": [
  {
   "cell_type": "code",
   "execution_count": 4,
   "id": "8ebc8941",
   "metadata": {},
   "outputs": [],
   "source": [
    "def getchar(value):\n",
    "    if int(value)<0 or int(value)>26:\n",
    "        return \"\"\n",
    "    return chr(97 + int(value) -1)"
   ]
  },
  {
   "cell_type": "code",
   "execution_count": 9,
   "id": "bed67f83",
   "metadata": {},
   "outputs": [],
   "source": [
    "def decodeway(input):\n",
    "    if input =='':\n",
    "        return ['']\n",
    "    singledigit = int(input[:1])\n",
    "    \n",
    "    result = []\n",
    "    anssingledigit = decodeway(input[1:])\n",
    "    for word in anssingledigit:\n",
    "        result.append(getchar(singledigit)+word)\n",
    "        \n",
    "    doubledigit = int(input[:2])\n",
    "    if doubledigit>=10 and doubledigit<=26:\n",
    "        ansdoubledigit = decodeway(input[2:])\n",
    "        for word in ansdoubledigit:\n",
    "            result.append(getchar(doubledigit)+word)\n",
    "    return result"
   ]
  },
  {
   "cell_type": "code",
   "execution_count": 12,
   "id": "fff6170f",
   "metadata": {},
   "outputs": [
    {
     "data": {
      "text/plain": [
       "['aaaaaa',\n",
       " 'aaaak',\n",
       " 'aaaka',\n",
       " 'aakaa',\n",
       " 'aakk',\n",
       " 'akaaa',\n",
       " 'akak',\n",
       " 'akka',\n",
       " 'kaaaa',\n",
       " 'kaak',\n",
       " 'kaka',\n",
       " 'kkaa',\n",
       " 'kkk']"
      ]
     },
     "execution_count": 12,
     "metadata": {},
     "output_type": "execute_result"
    }
   ],
   "source": [
    "decodeway('111111')"
   ]
  },
  {
   "cell_type": "code",
   "execution_count": null,
   "id": "4e982d9f",
   "metadata": {},
   "outputs": [],
   "source": []
  }
 ],
 "metadata": {
  "kernelspec": {
   "display_name": "Python 3",
   "language": "python",
   "name": "python3"
  },
  "language_info": {
   "codemirror_mode": {
    "name": "ipython",
    "version": 3
   },
   "file_extension": ".py",
   "mimetype": "text/x-python",
   "name": "python",
   "nbconvert_exporter": "python",
   "pygments_lexer": "ipython3",
   "version": "3.13.5"
  }
 },
 "nbformat": 4,
 "nbformat_minor": 5
}

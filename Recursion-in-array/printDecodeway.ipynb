{
 "cells": [
  {
   "cell_type": "code",
   "execution_count": 1,
   "id": "8ebc8941",
   "metadata": {},
   "outputs": [],
   "source": [
    "def getchar(value):\n",
    "    if int(value)<0 or int(value)>26:\n",
    "        return \"\"\n",
    "    return chr(97 + int(value) -1)"
   ]
  },
  {
   "cell_type": "code",
   "execution_count": null,
   "id": "bed67f83",
   "metadata": {},
   "outputs": [],
   "source": [
    "getchar"
   ]
  },
  {
   "cell_type": "code",
   "execution_count": null,
   "id": "fff6170f",
   "metadata": {},
   "outputs": [],
   "source": []
  }
 ],
 "metadata": {
  "kernelspec": {
   "display_name": "Python 3",
   "language": "python",
   "name": "python3"
  },
  "language_info": {
   "codemirror_mode": {
    "name": "ipython",
    "version": 3
   },
   "file_extension": ".py",
   "mimetype": "text/x-python",
   "name": "python",
   "nbconvert_exporter": "python",
   "pygments_lexer": "ipython3",
   "version": "3.13.5"
  }
 },
 "nbformat": 4,
 "nbformat_minor": 5
}

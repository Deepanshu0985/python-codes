{
 "cells": [
  {
   "cell_type": "code",
   "execution_count": 7,
   "id": "ef4c9717",
   "metadata": {},
   "outputs": [],
   "source": [
    "def removematchingchar(s, char, i=0):\n",
    "    if i == len(s):\n",
    "        return \"\"\n",
    "    if s[i] == char:\n",
    "        return removematchingchar(s, char, i + 1)\n",
    "    else:\n",
    "        return s[i] + removematchingchar(s, char, i + 1)\n",
    "\n"
   ]
  },
  {
   "cell_type": "code",
   "execution_count": 10,
   "id": "db7dffa5",
   "metadata": {},
   "outputs": [
    {
     "name": "stdout",
     "output_type": "stream",
     "text": [
      "abcccdde\n"
     ]
    }
   ],
   "source": [
    "str = \"abcccddezzz\"\n",
    "print(removematchingchar(str,'z'))"
   ]
  },
  {
   "cell_type": "code",
   "execution_count": 19,
   "id": "3623259a",
   "metadata": {},
   "outputs": [],
   "source": [
    "def removematchingchar(s, char):\n",
    "    if len(s)==0 or s==\"\":\n",
    "        return \"\"\n",
    "    if s[0] == char:\n",
    "        return removematchingchar(s[1:],char)\n",
    "    else:\n",
    "        return s[0]+removematchingchar(s[1:],char)\n",
    "    \n",
    "        \n",
    "        \n",
    "        \n",
    "   \n"
   ]
  },
  {
   "cell_type": "code",
   "execution_count": 20,
   "id": "be12b76a",
   "metadata": {},
   "outputs": [
    {
     "name": "stdout",
     "output_type": "stream",
     "text": [
      "abcccdde\n"
     ]
    }
   ],
   "source": [
    "str = \"abcccddezzz\"\n",
    "print(removematchingchar(str,'z'))"
   ]
  },
  {
   "cell_type": "code",
   "execution_count": null,
   "id": "2da5a321",
   "metadata": {},
   "outputs": [],
   "source": []
  }
 ],
 "metadata": {
  "kernelspec": {
   "display_name": "Python 3",
   "language": "python",
   "name": "python3"
  },
  "language_info": {
   "codemirror_mode": {
    "name": "ipython",
    "version": 3
   },
   "file_extension": ".py",
   "mimetype": "text/x-python",
   "name": "python",
   "nbconvert_exporter": "python",
   "pygments_lexer": "ipython3",
   "version": "3.13.5"
  }
 },
 "nbformat": 4,
 "nbformat_minor": 5
}

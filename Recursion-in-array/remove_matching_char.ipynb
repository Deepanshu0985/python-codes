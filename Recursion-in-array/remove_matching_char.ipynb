{
 "cells": [
  {
   "cell_type": "code",
   "execution_count": 1,
   "id": "ef4c9717",
   "metadata": {},
   "outputs": [],
   "source": [
    "def removematchingchar(str,char,i):\n",
    "    if len(str)==i:\n",
    "        return removematchingchar\n",
    "    if str[0] == char:\n",
    "        return removematchingchar(str[i:],char,i+1)\n",
    "    else:\n",
    "        return str[0] + removematchingchar(str[i:],char,i+1)"
   ]
  },
  {
   "cell_type": "code",
   "execution_count": 6,
   "id": "db7dffa5",
   "metadata": {},
   "outputs": [
    {
     "name": "stdout",
     "output_type": "stream",
     "text": [
      "<function removematchingchar at 0x104b5d620>\n"
     ]
    }
   ],
   "source": [
    "str = \"abcccddezzz\"\n",
    "print(removematchingchar(str,'z',len(str)))"
   ]
  },
  {
   "cell_type": "code",
   "execution_count": null,
   "id": "3623259a",
   "metadata": {},
   "outputs": [],
   "source": []
  }
 ],
 "metadata": {
  "kernelspec": {
   "display_name": "Python 3",
   "language": "python",
   "name": "python3"
  },
  "language_info": {
   "codemirror_mode": {
    "name": "ipython",
    "version": 3
   },
   "file_extension": ".py",
   "mimetype": "text/x-python",
   "name": "python",
   "nbconvert_exporter": "python",
   "pygments_lexer": "ipython3",
   "version": "3.13.5"
  }
 },
 "nbformat": 4,
 "nbformat_minor": 5
}

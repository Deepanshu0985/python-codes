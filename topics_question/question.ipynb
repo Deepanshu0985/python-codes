{
 "cells": [
  {
   "cell_type": "code",
   "execution_count": 1,
   "id": "abcb0692",
   "metadata": {},
   "outputs": [],
   "source": [
    "def changestring(s):\n",
    "    # result = \"\"\n",
    "    cntcomma = s.count(\",\")\n",
    "    s=s.replace(\",\", \"\")\n",
    "    s+= \"&\" * cntcomma\n",
    "    return s"
   ]
  },
  {
   "cell_type": "code",
   "execution_count": 2,
   "id": "ed95fdf9",
   "metadata": {},
   "outputs": [
    {
     "name": "stdout",
     "output_type": "stream",
     "text": [
      "Modified string: hello how are you today?&&&\n"
     ]
    }
   ],
   "source": [
    "s = \"hello, how, are you, today?\"\n",
    "result = changestring(s)\n",
    "print(\"Modified string:\", result)"
   ]
  },
  {
   "cell_type": "code",
   "execution_count": 3,
   "id": "ae992492",
   "metadata": {},
   "outputs": [
    {
     "name": "stdout",
     "output_type": "stream",
     "text": [
      "50 51 52 53 54 55 56 57 58 59 60 61 62 63 64 65 66 67 68 69 70 71 72 73 74 75 76 77 78 79 80 81 82 83 84 85 86 87 88 89 90 91 92 93 94 95 96 97 98 99 "
     ]
    }
   ],
   "source": [
    "for i in range(50,100):\n",
    "    print(i, end=\" \")"
   ]
  },
  {
   "cell_type": "code",
   "execution_count": 4,
   "id": "41f5941e",
   "metadata": {},
   "outputs": [],
   "source": [
    "def printprime():\n",
    "    for i in range(50,100):\n",
    "        if is_prime(i):\n",
    "            print(i, end=\" \")\n",
    "def is_prime(n):\n",
    "    if n <= 1:\n",
    "        return False\n",
    "    for i in range(2,int(n**.5)+1):\n",
    "        if n%i ==0:\n",
    "            return False \n",
    "    return True"
   ]
  },
  {
   "cell_type": "code",
   "execution_count": 5,
   "id": "b3da0582",
   "metadata": {},
   "outputs": [
    {
     "name": "stdout",
     "output_type": "stream",
     "text": [
      "53 59 61 67 71 73 79 83 89 97 "
     ]
    }
   ],
   "source": [
    "printprime()"
   ]
  },
  {
   "cell_type": "code",
   "execution_count": 6,
   "id": "1baf2338",
   "metadata": {},
   "outputs": [],
   "source": [
    "def startswith(lst, prefix):\n",
    "    i =0\n",
    "    while i <len(lst):\n",
    "        if not lst[i].startswith(prefix):\n",
    "            lst.remove(lst[i])\n",
    "        else:\n",
    "            i += 1\n",
    "    return lst\n",
    "            \n",
    "    "
   ]
  },
  {
   "cell_type": "code",
   "execution_count": 7,
   "id": "44d8730c",
   "metadata": {},
   "outputs": [
    {
     "data": {
      "text/plain": [
       "['you']"
      ]
     },
     "execution_count": 7,
     "metadata": {},
     "output_type": "execute_result"
    }
   ],
   "source": [
    "startswith([\"hello\", \"how\", \"are\", \"you\"], \"y\")"
   ]
  },
  {
   "cell_type": "code",
   "execution_count": 8,
   "id": "f75373e7",
   "metadata": {},
   "outputs": [
    {
     "data": {
      "text/plain": [
       "-inf"
      ]
     },
     "execution_count": 8,
     "metadata": {},
     "output_type": "execute_result"
    }
   ],
   "source": [
    "def second_highest(lst):\n",
    "    first = second = float ('-inf')\n",
    "    for element in lst:\n",
    "        if element >first:\n",
    "            second= first\n",
    "            first = element\n",
    "        elif first>element>second:\n",
    "            second = element\n",
    "    return second\n",
    "\n",
    "\n",
    "second_highest([2,2,2,2,2,2])\n",
    "            "
   ]
  },
  {
   "cell_type": "code",
   "execution_count": 9,
   "id": "29c25611",
   "metadata": {},
   "outputs": [],
   "source": [
    "arr = []"
   ]
  },
  {
   "cell_type": "code",
   "execution_count": 10,
   "id": "e0a262d2",
   "metadata": {},
   "outputs": [
    {
     "data": {
      "text/plain": [
       "56"
      ]
     },
     "execution_count": 10,
     "metadata": {},
     "output_type": "execute_result"
    }
   ],
   "source": [
    "import sys\n",
    "sys.getsizeof(arr)"
   ]
  },
  {
   "cell_type": "code",
   "execution_count": 11,
   "id": "6f019e36",
   "metadata": {},
   "outputs": [],
   "source": [
    "import array as A"
   ]
  },
  {
   "cell_type": "code",
   "execution_count": 12,
   "id": "7ae58310",
   "metadata": {},
   "outputs": [],
   "source": [
    "lst = A.array(\"i\")"
   ]
  },
  {
   "cell_type": "code",
   "execution_count": 13,
   "id": "e28548be",
   "metadata": {},
   "outputs": [
    {
     "data": {
      "text/plain": [
       "array.array"
      ]
     },
     "execution_count": 13,
     "metadata": {},
     "output_type": "execute_result"
    }
   ],
   "source": [
    "type(lst)"
   ]
  },
  {
   "cell_type": "code",
   "execution_count": 14,
   "id": "db3ccc4f",
   "metadata": {},
   "outputs": [
    {
     "data": {
      "text/plain": [
       "80"
      ]
     },
     "execution_count": 14,
     "metadata": {},
     "output_type": "execute_result"
    }
   ],
   "source": [
    "sys.getsizeof(lst)"
   ]
  },
  {
   "cell_type": "code",
   "execution_count": 15,
   "id": "233acd7f",
   "metadata": {},
   "outputs": [],
   "source": [
    "lst = [ i for i in range(90,100)]"
   ]
  },
  {
   "cell_type": "code",
   "execution_count": 16,
   "id": "01b1a558",
   "metadata": {},
   "outputs": [
    {
     "data": {
      "text/plain": [
       "[90, 91, 92, 93, 94, 95, 96, 97, 98, 99]"
      ]
     },
     "execution_count": 16,
     "metadata": {},
     "output_type": "execute_result"
    }
   ],
   "source": [
    "lst"
   ]
  },
  {
   "cell_type": "code",
   "execution_count": 17,
   "id": "ca76d14c",
   "metadata": {},
   "outputs": [
    {
     "name": "stdout",
     "output_type": "stream",
     "text": [
      "8\n"
     ]
    }
   ],
   "source": [
    "def fib(n, dp):\n",
    "    if n <= 1:\n",
    "        return n\n",
    "    if dp[n] != -1:\n",
    "        return dp[n]\n",
    "    dp[n] = fib(n - 1, dp) + fib(n - 2, dp)\n",
    "    return dp[n]\n",
    "\n",
    "n = 6\n",
    "dp = [-1 for _ in range(n + 1)]  \n",
    "print(fib(n, dp))  \n"
   ]
  },
  {
   "cell_type": "code",
   "execution_count": 18,
   "id": "b6423dec",
   "metadata": {},
   "outputs": [
    {
     "name": "stdout",
     "output_type": "stream",
     "text": [
      "1\n",
      "2\n",
      "3\n",
      "4\n",
      "5\n"
     ]
    }
   ],
   "source": [
    "def printnum(num):\n",
    "    if num==0:\n",
    "        return 1\n",
    "    printnum(num-1)\n",
    "    print(num)\n",
    "\n",
    "printnum(5)\n",
    "    "
   ]
  },
  {
   "cell_type": "code",
   "execution_count": 19,
   "id": "d6e3e573",
   "metadata": {},
   "outputs": [
    {
     "name": "stdout",
     "output_type": "stream",
     "text": [
      "3000\n"
     ]
    }
   ],
   "source": [
    "import sys\n",
    "print(sys.getrecursionlimit())"
   ]
  },
  {
   "cell_type": "code",
   "execution_count": 20,
   "id": "248f1c05",
   "metadata": {},
   "outputs": [],
   "source": [
    "def fact (num):\n",
    "    if num==0:\n",
    "        return 1\n",
    "    return num * fact(num-1)\n",
    "    "
   ]
  },
  {
   "cell_type": "code",
   "execution_count": 21,
   "id": "766748a9",
   "metadata": {},
   "outputs": [
    {
     "data": {
      "text/plain": [
       "788657867364790503552363213932185062295135977687173263294742533244359449963403342920304284011984623904177212138919638830257642790242637105061926624952829931113462857270763317237396988943922445621451664240254033291864131227428294853277524242407573903240321257405579568660226031904170324062351700858796178922222789623703897374720000000000000000000000000000000000000000000000000"
      ]
     },
     "execution_count": 21,
     "metadata": {},
     "output_type": "execute_result"
    }
   ],
   "source": [
    "fact(200)"
   ]
  },
  {
   "cell_type": "code",
   "execution_count": 22,
   "id": "13742e25",
   "metadata": {},
   "outputs": [
    {
     "data": {
      "text/plain": [
       "32"
      ]
     },
     "execution_count": 22,
     "metadata": {},
     "output_type": "execute_result"
    }
   ],
   "source": [
    "def power2(n):\n",
    "    if n==1:\n",
    "        return 2\n",
    "    return 2 * power2(n-1)\n",
    "\n",
    "power2(5)"
   ]
  },
  {
   "cell_type": "code",
   "execution_count": 23,
   "id": "76daa2a3",
   "metadata": {},
   "outputs": [
    {
     "data": {
      "text/plain": [
       "15"
      ]
     },
     "execution_count": 23,
     "metadata": {},
     "output_type": "execute_result"
    }
   ],
   "source": [
    "sum([ _ for _ in range(6)])"
   ]
  },
  {
   "cell_type": "code",
   "execution_count": 24,
   "id": "e9ab22e2",
   "metadata": {},
   "outputs": [],
   "source": [
    "lst = [i for i in range(1,5+1)]"
   ]
  },
  {
   "cell_type": "code",
   "execution_count": 25,
   "id": "ba5c0a5f",
   "metadata": {},
   "outputs": [
    {
     "data": {
      "text/plain": [
       "[1, 2, 3, 4, 5]"
      ]
     },
     "execution_count": 25,
     "metadata": {},
     "output_type": "execute_result"
    }
   ],
   "source": [
    "lst"
   ]
  },
  {
   "cell_type": "code",
   "execution_count": 26,
   "id": "12f219e8",
   "metadata": {},
   "outputs": [
    {
     "data": {
      "text/plain": [
       "1"
      ]
     },
     "execution_count": 26,
     "metadata": {},
     "output_type": "execute_result"
    }
   ],
   "source": [
    "def coutn_digit(n):\n",
    "    if n>=1 and n<=9:\n",
    "        return 1\n",
    "    if(n==0):\n",
    "        return 1\n",
    "    \n",
    "    return 1 + coutn_digit(int(n/10))\n",
    "\n",
    "\n",
    "coutn_digit(0)"
   ]
  },
  {
   "cell_type": "code",
   "execution_count": 27,
   "id": "fffd9093",
   "metadata": {},
   "outputs": [],
   "source": [
    "def fibo(n):\n",
    "    if n==0:\n",
    "        return 0\n",
    "    if n==1:\n",
    "        return 1\n",
    "    return fibo(n-1)+fibo(n-2)"
   ]
  },
  {
   "cell_type": "code",
   "execution_count": 28,
   "id": "491a5c92",
   "metadata": {},
   "outputs": [
    {
     "data": {
      "text/plain": [
       "5"
      ]
     },
     "execution_count": 28,
     "metadata": {},
     "output_type": "execute_result"
    }
   ],
   "source": [
    "fibo(5)\n"
   ]
  },
  {
   "cell_type": "code",
   "execution_count": 29,
   "id": "affac85c",
   "metadata": {},
   "outputs": [],
   "source": [
    "def count_n(n):\n",
    "    if n==0:\n",
    "        return\n",
    "    \n",
    "    count_n(n-1)\n",
    "    print(n)"
   ]
  },
  {
   "cell_type": "code",
   "execution_count": 30,
   "id": "855b1b39",
   "metadata": {},
   "outputs": [
    {
     "name": "stdout",
     "output_type": "stream",
     "text": [
      "1\n",
      "2\n",
      "3\n",
      "4\n",
      "5\n",
      "6\n",
      "7\n",
      "8\n",
      "9\n",
      "10\n"
     ]
    }
   ],
   "source": [
    "count_n(10)"
   ]
  },
  {
   "cell_type": "code",
   "execution_count": 31,
   "id": "ca2c554a",
   "metadata": {},
   "outputs": [],
   "source": [
    "def sumdigit(n):\n",
    "    if n==0:\n",
    "        return 0\n",
    "    \n",
    "     \n",
    "    return n%10 + sumdigit(n//10)\n",
    "    "
   ]
  },
  {
   "cell_type": "code",
   "execution_count": 32,
   "id": "cd902f06",
   "metadata": {},
   "outputs": [
    {
     "data": {
      "text/plain": [
       "6"
      ]
     },
     "execution_count": 32,
     "metadata": {},
     "output_type": "execute_result"
    }
   ],
   "source": [
    "sumdigit(123)"
   ]
  },
  {
   "cell_type": "code",
   "execution_count": 33,
   "id": "4ef66dad",
   "metadata": {},
   "outputs": [],
   "source": [
    "def computepower(base,expo):\n",
    "    if expo == 0:\n",
    "        return 1\n",
    "    return base * computepower(base , expo-1)"
   ]
  },
  {
   "cell_type": "code",
   "execution_count": 34,
   "id": "e3acb98d",
   "metadata": {},
   "outputs": [
    {
     "data": {
      "text/plain": [
       "16"
      ]
     },
     "execution_count": 34,
     "metadata": {},
     "output_type": "execute_result"
    }
   ],
   "source": [
    "computepower(2,4)"
   ]
  },
  {
   "cell_type": "code",
   "execution_count": 35,
   "id": "43998edd",
   "metadata": {},
   "outputs": [],
   "source": [
    "def checksorted(lst):\n",
    "    if len(lst)==0 or len(lst)==1:\n",
    "        return True\n",
    "    ans = checksorted(lst[1:])\n",
    "    \n",
    "    if lst[0]<lst[1]:\n",
    "        return ans\n",
    "    else:\n",
    "        return False"
   ]
  },
  {
   "cell_type": "code",
   "execution_count": 36,
   "id": "90c689cf",
   "metadata": {},
   "outputs": [
    {
     "data": {
      "text/plain": [
       "False"
      ]
     },
     "execution_count": 36,
     "metadata": {},
     "output_type": "execute_result"
    }
   ],
   "source": [
    "checksorted([1,2,2,4,5,7,8])"
   ]
  },
  {
   "cell_type": "code",
   "execution_count": 37,
   "id": "fbc77ba8",
   "metadata": {},
   "outputs": [],
   "source": [
    "def checksorted2(lst):\n",
    "    if len(lst)==0 or len(lst)==1:\n",
    "        return True\n",
    "    \n",
    "    if lst[0]<=lst[1]:\n",
    "        return checksorted2(lst[1:])\n",
    "    else:\n",
    "        return False"
   ]
  },
  {
   "cell_type": "code",
   "execution_count": 38,
   "id": "a9267c02",
   "metadata": {},
   "outputs": [
    {
     "data": {
      "text/plain": [
       "True"
      ]
     },
     "execution_count": 38,
     "metadata": {},
     "output_type": "execute_result"
    }
   ],
   "source": [
    "checksorted2([1,2,2,4,5,7,8])"
   ]
  },
  {
   "cell_type": "code",
   "execution_count": 39,
   "id": "b8cb75d3",
   "metadata": {},
   "outputs": [],
   "source": [
    "def sumofarray(lst):\n",
    "    if len(lst)==1:\n",
    "        return lst[0]\n",
    "    return  sumofarray(lst[1:]) + lst[0]"
   ]
  },
  {
   "cell_type": "code",
   "execution_count": 40,
   "id": "7e646b4e",
   "metadata": {},
   "outputs": [
    {
     "data": {
      "text/plain": [
       "15"
      ]
     },
     "execution_count": 40,
     "metadata": {},
     "output_type": "execute_result"
    }
   ],
   "source": [
    "sumofarray([1,2,3,4,5])"
   ]
  },
  {
   "cell_type": "code",
   "execution_count": 41,
   "id": "5a8c7b41",
   "metadata": {},
   "outputs": [],
   "source": [
    "def first(arr, num):\n",
    "    first_idx = 0\n",
    "    last_idx = len(arr) - 1\n",
    "    result = -1\n",
    "\n",
    "    while first_idx <= last_idx:\n",
    "        mid = (first_idx + last_idx) // 2\n",
    "        if arr[mid] == num:\n",
    "            result = mid\n",
    "            last_idx = mid - 1  # continue searching left\n",
    "        elif arr[mid] < num:\n",
    "            first_idx = mid + 1\n",
    "        else:\n",
    "            last_idx = mid - 1\n",
    "    return result\n",
    "\n",
    "\n",
    "def last(arr, num):\n",
    "    first_idx = 0\n",
    "    last_idx = len(arr) - 1\n",
    "    result = -1\n",
    "\n",
    "    while first_idx <= last_idx:\n",
    "        mid = (first_idx + last_idx) // 2\n",
    "        if arr[mid] == num:\n",
    "            result = mid\n",
    "            first_idx = mid + 1  # continue searching right\n",
    "        elif arr[mid] < num:\n",
    "            first_idx = mid + 1\n",
    "        else:\n",
    "            last_idx = mid - 1\n",
    "    return result\n"
   ]
  },
  {
   "cell_type": "code",
   "execution_count": 42,
   "id": "4d20c5f2",
   "metadata": {},
   "outputs": [],
   "source": [
    "arr = [1,2,2,2,2,3,4,5,]"
   ]
  },
  {
   "cell_type": "code",
   "execution_count": 43,
   "id": "1a88e4dc",
   "metadata": {},
   "outputs": [
    {
     "name": "stdout",
     "output_type": "stream",
     "text": [
      "6 6\n"
     ]
    }
   ],
   "source": [
    "print(first(arr,4) , last(arr,4))"
   ]
  },
  {
   "cell_type": "code",
   "execution_count": 44,
   "id": "04a798c6",
   "metadata": {},
   "outputs": [],
   "source": [
    "def firstandlast(arr, num, index=0, first=-1, last=-1):\n",
    "    if index == len(arr):\n",
    "        return first, last\n",
    "\n",
    "    if arr[index] == num:\n",
    "        if first == -1:\n",
    "            first = index + 1\n",
    "        last = index + 1\n",
    "\n",
    "    return firstandlast(arr, num, index + 1, first, last)\n"
   ]
  },
  {
   "cell_type": "code",
   "execution_count": 45,
   "id": "dcdd7b6a",
   "metadata": {},
   "outputs": [
    {
     "data": {
      "text/plain": [
       "(6, 8)"
      ]
     },
     "execution_count": 45,
     "metadata": {},
     "output_type": "execute_result"
    }
   ],
   "source": [
    "firstandlast([1,2,3,4,2,5,5,5],5)"
   ]
  },
  {
   "cell_type": "code",
   "execution_count": 46,
   "id": "e6baf4cc",
   "metadata": {},
   "outputs": [],
   "source": [
    "arr = [1,2,3,4,2,3,4]"
   ]
  },
  {
   "cell_type": "code",
   "execution_count": 47,
   "id": "b51b7c2a",
   "metadata": {},
   "outputs": [
    {
     "data": {
      "text/plain": [
       "(4, 7)"
      ]
     },
     "execution_count": 47,
     "metadata": {},
     "output_type": "execute_result"
    }
   ],
   "source": [
    "firstandlast(arr,4)"
   ]
  },
  {
   "cell_type": "code",
   "execution_count": 48,
   "id": "eb463cd3",
   "metadata": {},
   "outputs": [
    {
     "name": "stdout",
     "output_type": "stream",
     "text": [
      "Is Anagram: False\n"
     ]
    }
   ],
   "source": [
    "class Solution(object):\n",
    "    def isAnagram(self, s, t):\n",
    "        if len(s) != len(t):\n",
    "            return False\n",
    "\n",
    "        count = {}\n",
    "\n",
    "        # Count characters in s\n",
    "        for char in s:\n",
    "            if char in count:\n",
    "                count[char] += 1\n",
    "            else:\n",
    "                count[char] = 1\n",
    "\n",
    "        # ✅ Debug print\n",
    "        print(\"Character frequency in 's':\")\n",
    "        for key, value in count.items():\n",
    "            print(key, value)\n",
    "\n",
    "        # Subtract characters using t\n",
    "        for char in t:\n",
    "            if char not in count or count[char] == 0:\n",
    "                return False\n",
    "            count[char] -= 1\n",
    "\n",
    "        return True\n",
    "\n",
    "# Test\n",
    "sol = Solution()\n",
    "print(\"Is Anagram:\", sol.isAnagram(\"aanapgram\", \"anaagram\"))\n"
   ]
  },
  {
   "cell_type": "code",
   "execution_count": 51,
   "id": "723eb098",
   "metadata": {},
   "outputs": [],
   "source": [
    "def prefix(lst):\n",
    "    lst.sort()\n",
    "    first = lst[0]\n",
    "    last = lst[-1]\n",
    "    ans = \"\"\n",
    "    for i in range(len(last)):\n",
    "        if first [i] == last[i]:\n",
    "            ans+=first[i]\n",
    "        else:\n",
    "            break\n",
    "    return ans\n",
    "    "
   ]
  },
  {
   "cell_type": "code",
   "execution_count": 53,
   "id": "57f33361",
   "metadata": {},
   "outputs": [
    {
     "name": "stdout",
     "output_type": "stream",
     "text": [
      "fl\n",
      "\n"
     ]
    }
   ],
   "source": [
    "print(prefix([\"flower\", \"flow\", \"flight\"]))\n",
    "print(prefix([\"dog\",\"racecar\",\"car\"]))"
   ]
  },
  {
   "cell_type": "code",
   "execution_count": null,
   "id": "34560e0a",
   "metadata": {},
   "outputs": [
    {
     "ename": "ValueError",
     "evalue": "invalid literal for int() with base 10: 'a'",
     "output_type": "error",
     "traceback": [
      "\u001b[31m---------------------------------------------------------------------------\u001b[39m",
      "\u001b[31mValueError\u001b[39m                                Traceback (most recent call last)",
      "\u001b[36mCell\u001b[39m\u001b[36m \u001b[39m\u001b[32mIn[54]\u001b[39m\u001b[32m, line 1\u001b[39m\n\u001b[32m----> \u001b[39m\u001b[32m1\u001b[39m \u001b[38;5;28mprint\u001b[39m(\u001b[38;5;28;43mint\u001b[39;49m\u001b[43m(\u001b[49m\u001b[33;43m'\u001b[39;49m\u001b[33;43ma\u001b[39;49m\u001b[33;43m'\u001b[39;49m\u001b[43m)\u001b[49m)\n",
      "\u001b[31mValueError\u001b[39m: invalid literal for int() with base 10: 'a'"
     ]
    }
   ],
   "source": []
  },
  {
   "cell_type": "code",
   "execution_count": 57,
   "id": "750c203d",
   "metadata": {},
   "outputs": [],
   "source": [
    "class Solution(object):\n",
    "    def isPalindrome(self, s):\n",
    "        \"\"\"\n",
    "        :type s: str\n",
    "        :rtype: bool\n",
    "        \"\"\"\n",
    "        cleaned = []\n",
    "        for i in s:\n",
    "            if i.isalnum():\n",
    "                cleaned.append(i.lower())\n",
    "        \n",
    "        l, r = 0, len(cleaned) - 1\n",
    "        while l < r:\n",
    "            if cleaned[l] != cleaned[r]:\n",
    "                return False\n",
    "            l += 1\n",
    "            r -= 1\n",
    "        \n",
    "        return True\n"
   ]
  },
  {
   "cell_type": "code",
   "execution_count": 58,
   "id": "a23ad8a0",
   "metadata": {},
   "outputs": [
    {
     "data": {
      "text/plain": [
       "True"
      ]
     },
     "execution_count": 58,
     "metadata": {},
     "output_type": "execute_result"
    }
   ],
   "source": [
    "sol = Solution()\n",
    "sol.isPalindrome(\"A man, a plan, a canal: Panama\")"
   ]
  },
  {
   "cell_type": "code",
   "execution_count": null,
   "id": "111af309",
   "metadata": {},
   "outputs": [],
   "source": [
    "# class Solution(object):\n",
    "#     def groupAnagrams(self, lst):\n",
    "#         \"\"\"\n",
    "#         :type strs: List[str]\n",
    "#         :rtype: List[List[str]]\n",
    "#         \"\"\"\n",
    "#         n = len(lst)\n",
    "#         visited = [False]*n\n",
    "#         res = []\n",
    "        \n",
    "#         for i in range(n):\n",
    "#             if not visited[i]:\n",
    "#                 group = [lst[i]]\n",
    "#                 visited[i] = True\n",
    "#                 for j in range(i+1,n):\n",
    "#                     if not visited[j] and sorted(lst[j]) == sorted(lst[i]):\n",
    "#                         group.append(lst[j])\n",
    "#                         visited[j] = True\n",
    "#                 res.append(group)\n",
    "#         return res\n",
    "        "
   ]
  },
  {
   "cell_type": "code",
   "execution_count": null,
   "id": "17088b65",
   "metadata": {},
   "outputs": [],
   "source": [
    "class Solution(object):\n",
    "    def groupAnagrams(self, lst):\n",
    "        \"\"\"\n",
    "        :type strs: List[str]\n",
    "        :rtype: List[List[str]]\n",
    "        \"\"\"\n",
    "        n = len(lst)\n",
    "        visited = [False] * n\n",
    "        res = []\n",
    "\n",
    "        for i in range(n):\n",
    "            if not visited[i]:\n",
    "                group = [lst[i]]\n",
    "                visited[i] = True\n",
    "                for j in range (i+1,n):\n",
    "                    if not visited[j] and sorted(lst[i])==sorted(lst[j]):\n",
    "                        group.append(lst[j])\n",
    "                        visited[j] = True\n",
    "                res.append(group)\n",
    "                        \n",
    "\n",
    "        return res\n"
   ]
  },
  {
   "cell_type": "code",
   "execution_count": null,
   "id": "9095f60e",
   "metadata": {},
   "outputs": [
    {
     "data": {
      "text/plain": [
       "[['eat', 'tea', 'ate'], ['tan', 'nat'], ['bat']]"
      ]
     },
     "execution_count": 122,
     "metadata": {},
     "output_type": "execute_result"
    }
   ],
   "source": [
    "sol = Solution()\n",
    "sol.groupAnagrams([\"eat\",\"tea\",\"tan\",\"ate\",\"nat\",\"bat\"])"
   ]
  },
  {
   "cell_type": "code",
   "execution_count": null,
   "id": "37f635d4",
   "metadata": {},
   "outputs": [],
   "source": []
  },
  {
   "cell_type": "code",
   "execution_count": null,
   "id": "ad7205b9",
   "metadata": {},
   "outputs": [],
   "source": []
  },
  {
   "cell_type": "code",
   "execution_count": null,
   "id": "36ed68c1",
   "metadata": {},
   "outputs": [],
   "source": []
  },
  {
   "cell_type": "code",
   "execution_count": null,
   "id": "676bfbce",
   "metadata": {},
   "outputs": [],
   "source": []
  }
 ],
 "metadata": {
  "kernelspec": {
   "display_name": "Python 3",
   "language": "python",
   "name": "python3"
  },
  "language_info": {
   "codemirror_mode": {
    "name": "ipython",
    "version": 3
   },
   "file_extension": ".py",
   "mimetype": "text/x-python",
   "name": "python",
   "nbconvert_exporter": "python",
   "pygments_lexer": "ipython3",
   "version": "3.13.5"
  }
 },
 "nbformat": 4,
 "nbformat_minor": 5
}

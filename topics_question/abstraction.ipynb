{
 "cells": [
  {
   "cell_type": "markdown",
   "id": "38b3190a",
   "metadata": {},
   "source": [
    "abstraction is a concept of hiding complex implementation detail and showing only necessary features of an object"
   ]
  },
  {
   "cell_type": "code",
   "execution_count": 2,
   "id": "2ffc885f",
   "metadata": {},
   "outputs": [],
   "source": [
    "from abc import ABC , abstractmethod\n",
    "\n",
    "class vehicle(ABC):\n",
    "    def start_eingine(self):\n",
    "        print(\"engine is starting whrrr whrrr whrrrrrrrr\")\n",
    "    \n",
    "    @abstractmethod\n",
    "    def no_of_wheels(self):\n",
    "        pass"
   ]
  },
  {
   "cell_type": "code",
   "execution_count": 12,
   "id": "dca080d6",
   "metadata": {},
   "outputs": [],
   "source": [
    "class Car(vehicle):\n",
    "    def no_of_wheels(self):\n",
    "        return 4\n",
    "    def hello(self):\n",
    "        return \"hello\"\n",
    "    \n",
    "    "
   ]
  },
  {
   "cell_type": "code",
   "execution_count": 13,
   "id": "284cdd37",
   "metadata": {},
   "outputs": [
    {
     "name": "stdout",
     "output_type": "stream",
     "text": [
      "engine is starting whrrr whrrr whrrrrrrrr\n",
      "4\n"
     ]
    }
   ],
   "source": [
    "car = Car()\n",
    "car.start_eingine()\n",
    "print(car.no_of_wheels())"
   ]
  },
  {
   "cell_type": "code",
   "execution_count": null,
   "id": "d38840cb",
   "metadata": {},
   "outputs": [],
   "source": []
  },
  {
   "cell_type": "code",
   "execution_count": null,
   "id": "1e01eecf",
   "metadata": {},
   "outputs": [],
   "source": []
  },
  {
   "cell_type": "code",
   "execution_count": null,
   "id": "fce9afc5",
   "metadata": {},
   "outputs": [],
   "source": []
  },
  {
   "cell_type": "code",
   "execution_count": null,
   "id": "c7e3d894",
   "metadata": {},
   "outputs": [],
   "source": []
  }
 ],
 "metadata": {
  "kernelspec": {
   "display_name": "Python 3",
   "language": "python",
   "name": "python3"
  },
  "language_info": {
   "codemirror_mode": {
    "name": "ipython",
    "version": 3
   },
   "file_extension": ".py",
   "mimetype": "text/x-python",
   "name": "python",
   "nbconvert_exporter": "python",
   "pygments_lexer": "ipython3",
   "version": "3.13.5"
  }
 },
 "nbformat": 4,
 "nbformat_minor": 5
}

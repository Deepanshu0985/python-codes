{
 "cells": [
  {
   "cell_type": "markdown",
   "id": "f7c84ada",
   "metadata": {},
   "source": [
    "Encapsulation is the concept of wrapping data(variables) and methods(function) together as a single unit .\n",
    "it restrict direct data access to some of the objects which means preventing miuse of the data"
   ]
  },
  {
   "cell_type": "code",
   "execution_count": 1,
   "id": "f800bc64",
   "metadata": {},
   "outputs": [],
   "source": [
    "class person:\n",
    "    def __init__(self, name, age,account_number,ifsc_code):\n",
    "        self.name = name #public \n",
    "        self.age = age #public\n",
    "        self.__account_number = account_number #private\n",
    "        self._ifsc_code = ifsc_code #protected\n",
    "        \n",
    "    \n",
    "        \n",
    "        \n"
   ]
  },
  {
   "cell_type": "code",
   "execution_count": 4,
   "id": "3e911156",
   "metadata": {},
   "outputs": [],
   "source": [
    "class student(person):\n",
    "    def __init__(self,name,age,account_number,ifsc_code):\n",
    "        super().__init__(name, age, account_number, ifsc_code)\n",
    "    "
   ]
  },
  {
   "cell_type": "code",
   "execution_count": 5,
   "id": "440e9a8c",
   "metadata": {},
   "outputs": [],
   "source": [
    "person1 = student(\"Deepanshu\", 20, \"1234567890\", \"IFSC0001\")"
   ]
  },
  {
   "cell_type": "code",
   "execution_count": null,
   "id": "3758cd65",
   "metadata": {},
   "outputs": [
    {
     "data": {
      "text/plain": [
       "['__class__',\n",
       " '__delattr__',\n",
       " '__dict__',\n",
       " '__dir__',\n",
       " '__doc__',\n",
       " '__eq__',\n",
       " '__firstlineno__',\n",
       " '__format__',\n",
       " '__ge__',\n",
       " '__getattribute__',\n",
       " '__getstate__',\n",
       " '__gt__',\n",
       " '__hash__',\n",
       " '__init__',\n",
       " '__init_subclass__',\n",
       " '__le__',\n",
       " '__lt__',\n",
       " '__module__',\n",
       " '__ne__',\n",
       " '__new__',\n",
       " '__reduce__',\n",
       " '__reduce_ex__',\n",
       " '__repr__',\n",
       " '__setattr__',\n",
       " '__sizeof__',\n",
       " '__static_attributes__',\n",
       " '__str__',\n",
       " '__subclasshook__',\n",
       " '__weakref__',\n",
       " '_ifsc_code',\n",
       " '_person__account_number',\n",
       " 'age',\n",
       " 'name']"
      ]
     },
     "execution_count": 6,
     "metadata": {},
     "output_type": "execute_result"
    }
   ],
   "source": [
    "dir(person1)\n"
   ]
  },
  {
   "cell_type": "code",
   "execution_count": 9,
   "id": "0bafe317",
   "metadata": {},
   "outputs": [
    {
     "name": "stdout",
     "output_type": "stream",
     "text": [
      "Deepanshu\n",
      "20\n"
     ]
    }
   ],
   "source": [
    "print(person1.name)\n",
    "print(person1.age)"
   ]
  },
  {
   "cell_type": "code",
   "execution_count": null,
   "id": "f0552804",
   "metadata": {},
   "outputs": [
    {
     "ename": "AttributeError",
     "evalue": "'student' object has no attribute 'account_number'",
     "output_type": "error",
     "traceback": [
      "\u001b[31m---------------------------------------------------------------------------\u001b[39m",
      "\u001b[31mAttributeError\u001b[39m                            Traceback (most recent call last)",
      "\u001b[36mCell\u001b[39m\u001b[36m \u001b[39m\u001b[32mIn[11]\u001b[39m\u001b[32m, line 1\u001b[39m\n\u001b[32m----> \u001b[39m\u001b[32m1\u001b[39m \u001b[43mperson1\u001b[49m\u001b[43m.\u001b[49m\u001b[43maccount_number\u001b[49m\n",
      "\u001b[31mAttributeError\u001b[39m: 'student' object has no attribute 'account_number'"
     ]
    }
   ],
   "source": [
    "person1.account_number = \"9876543210\"  # This will raise an error because account_number is private"
   ]
  },
  {
   "cell_type": "code",
   "execution_count": 14,
   "id": "ac27c3a8",
   "metadata": {},
   "outputs": [
    {
     "name": "stdout",
     "output_type": "stream",
     "text": [
      "1234567890\n"
     ]
    }
   ],
   "source": [
    "print(person1._person__account_number)"
   ]
  },
  {
   "cell_type": "code",
   "execution_count": 15,
   "id": "b9ab117b",
   "metadata": {},
   "outputs": [
    {
     "name": "stdout",
     "output_type": "stream",
     "text": [
      "IFSC0001\n"
     ]
    }
   ],
   "source": [
    "print(person1._ifsc_code)  # This will work because ifsc_code is protected"
   ]
  },
  {
   "cell_type": "code",
   "execution_count": 16,
   "id": "62c012a0",
   "metadata": {},
   "outputs": [],
   "source": [
    "#getter and setter methods can be used to access private attributes\n",
    "class person:\n",
    "    def __init__(self, name, age, account_number, ifsc_code):\n",
    "        self.name = name  # public\n",
    "        self.age = age  # public\n",
    "        self.__account_number = account_number  # private\n",
    "        self._ifsc_code = ifsc_code  # protected\n",
    "\n",
    "    def get_account_number(self):\n",
    "        return self.__account_number\n",
    "\n",
    "    def set_account_number(self, account_number):\n",
    "        self.__account_number = account_number\n",
    "\n",
    "    def get_ifsc_code(self):\n",
    "        return self._ifsc_code\n",
    "\n",
    "    def set_ifsc_code(self, ifsc_code):\n",
    "        self._ifsc_code = ifsc_code"
   ]
  },
  {
   "cell_type": "code",
   "execution_count": 17,
   "id": "558634ff",
   "metadata": {},
   "outputs": [
    {
     "name": "stdout",
     "output_type": "stream",
     "text": [
      "deepanshu\n",
      "20\n",
      "1234567890\n",
      "9876543210\n",
      "IFSC1234\n",
      "IFSC5678\n"
     ]
    }
   ],
   "source": [
    "person1 = person(\"deepanshu\", 20, 1234567890, \"IFSC1234\")\n",
    "print(person1.name)  # Accessing public attribute\n",
    "print(person1.age)  # Accessing public attribute\n",
    "print(person1.get_account_number())  # Accessing private attribute using getter\n",
    "person1.set_account_number(\"9876543210\")  # Setting private attribute using setter\n",
    "print(person1.get_account_number())  # Accessing updated private attribute using getter\n",
    "print(person1.get_ifsc_code())  # Accessing protected attribute using getter\n",
    "person1.set_ifsc_code(\"IFSC5678\")  # Setting protected attribute using setter\n",
    "print(person1.get_ifsc_code())  # Accessing updated protected attribute using getter"
   ]
  },
  {
   "cell_type": "code",
   "execution_count": null,
   "id": "ed0bdbf3",
   "metadata": {},
   "outputs": [],
   "source": []
  }
 ],
 "metadata": {
  "kernelspec": {
   "display_name": "Python 3",
   "language": "python",
   "name": "python3"
  },
  "language_info": {
   "codemirror_mode": {
    "name": "ipython",
    "version": 3
   },
   "file_extension": ".py",
   "mimetype": "text/x-python",
   "name": "python",
   "nbconvert_exporter": "python",
   "pygments_lexer": "ipython3",
   "version": "3.13.5"
  }
 },
 "nbformat": 4,
 "nbformat_minor": 5
}

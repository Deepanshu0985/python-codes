{
 "cells": [
  {
   "cell_type": "markdown",
   "id": "7d1363c3",
   "metadata": {},
   "source": [
    "iterator are advanced python concept tha allows for efficient looping and memory management.\n",
    "iteraros is basically a stream of data which is accessed by the next() function and return one element at a time .\n",
    "\n",
    "any object eith iter() , next() is called iterator\n",
    "(obejct in python which represent stream of data)"
   ]
  },
  {
   "cell_type": "markdown",
   "id": "ab6fd04f",
   "metadata": {},
   "source": [
    "Generators is a special type of iterator that automativcally handles iter( ) and next() function  using the yeild keyword\n",
    "\n",
    "it pauses execution and resumes from where it left making it memory efficient and perfect for large data files"
   ]
  },
  {
   "cell_type": "code",
   "execution_count": 14,
   "id": "778cbe03",
   "metadata": {},
   "outputs": [],
   "source": [
    "lst = [1,2,3,4,5,6,7,8,9]"
   ]
  },
  {
   "cell_type": "code",
   "execution_count": 15,
   "id": "ff3da195",
   "metadata": {},
   "outputs": [],
   "source": [
    "iterator = iter(lst)"
   ]
  },
  {
   "cell_type": "code",
   "execution_count": 16,
   "id": "12c583ca",
   "metadata": {},
   "outputs": [
    {
     "data": {
      "text/plain": [
       "<list_iterator at 0x105de88b0>"
      ]
     },
     "execution_count": 16,
     "metadata": {},
     "output_type": "execute_result"
    }
   ],
   "source": [
    "iterator\n"
   ]
  },
  {
   "cell_type": "code",
   "execution_count": 17,
   "id": "a21d8e3c",
   "metadata": {},
   "outputs": [
    {
     "name": "stdout",
     "output_type": "stream",
     "text": [
      "1\n",
      "2\n",
      "3\n",
      "4\n",
      "5\n",
      "6\n",
      "7\n",
      "8\n",
      "9\n"
     ]
    }
   ],
   "source": [
    "for val in iterator:\n",
    "    print(val)"
   ]
  },
  {
   "cell_type": "code",
   "execution_count": 20,
   "id": "f79214fd",
   "metadata": {},
   "outputs": [],
   "source": [
    "def square(x):\n",
    "    yield x*x"
   ]
  },
  {
   "cell_type": "code",
   "execution_count": 21,
   "id": "811d2907",
   "metadata": {},
   "outputs": [
    {
     "name": "stdout",
     "output_type": "stream",
     "text": [
      "25\n"
     ]
    }
   ],
   "source": [
    "for val in square(5):\n",
    "    print(val)"
   ]
  },
  {
   "cell_type": "code",
   "execution_count": null,
   "id": "d21257e1",
   "metadata": {},
   "outputs": [],
   "source": []
  }
 ],
 "metadata": {
  "kernelspec": {
   "display_name": "Python 3",
   "language": "python",
   "name": "python3"
  },
  "language_info": {
   "codemirror_mode": {
    "name": "ipython",
    "version": 3
   },
   "file_extension": ".py",
   "mimetype": "text/x-python",
   "name": "python",
   "nbconvert_exporter": "python",
   "pygments_lexer": "ipython3",
   "version": "3.13.5"
  }
 },
 "nbformat": 4,
 "nbformat_minor": 5
}

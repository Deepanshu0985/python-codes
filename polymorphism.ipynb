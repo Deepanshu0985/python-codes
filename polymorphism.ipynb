{
 "cells": [
  {
   "cell_type": "code",
   "execution_count": 14,
   "id": "1365d0c0",
   "metadata": {},
   "outputs": [],
   "source": [
    "class bike:\n",
    "    def __init__ (self,name,color,price,cylinder):\n",
    "        self.name = name\n",
    "        self.color = color\n",
    "        self.price = price\n",
    "        self.cylinder = cylinder\n",
    "    \n",
    "    def cylinder(self):\n",
    "        print(f\"{self.name} is a {self.cylinder} bike\")\n",
    "    \n",
    "    def quickshift(self):\n",
    "        print( \"not available\")\n",
    "    \n",
    "    def information(self):\n",
    "        print(f\"{self.name} is a {self.color} bike and costs {self.price}\")"
   ]
  },
  {
   "cell_type": "code",
   "execution_count": 15,
   "id": "8645e44c",
   "metadata": {},
   "outputs": [],
   "source": [
    "class splendor(bike):\n",
    "    def __init__(self, name, color, price, cylinder):\n",
    "        super().__init__(name, color, price, cylinder)\n",
    "        \n",
    "    \n",
    "    \n",
    "bike1 = splendor(\"splendor\", \"red\", 60000, 2 )"
   ]
  },
  {
   "cell_type": "code",
   "execution_count": 16,
   "id": "a8927c9b",
   "metadata": {},
   "outputs": [],
   "source": [
    "class z900(bike):\n",
    "    def __init__(self, name, color, price, cylinder):\n",
    "        super().__init__(name, color, price, cylinder)\n",
    "    \n",
    "    def quickshift(self):\n",
    "        print(\"quickshift available\")\n",
    "    \n",
    "\n",
    "bike2 = z900(\"z900\", \"black\", 800000, 4)\n",
    "\n",
    "        "
   ]
  },
  {
   "cell_type": "code",
   "execution_count": 17,
   "id": "b4fe9eef",
   "metadata": {},
   "outputs": [],
   "source": [
    "class zx10r(bike):\n",
    "    def __init__(self, name, color, price, cylinder):\n",
    "        super().__init__(name, color, price, cylinder)\n",
    "    \n",
    "    def quickshift(self):\n",
    "        print(\"quickshift available\")\n",
    "        \n",
    "bike3 = zx10r(\"zx10r\", \"green\", 1000000, 4)\n",
    "        "
   ]
  },
  {
   "cell_type": "code",
   "execution_count": 19,
   "id": "4581d9a7",
   "metadata": {},
   "outputs": [
    {
     "name": "stdout",
     "output_type": "stream",
     "text": [
      "zx10r is a green bike and costs 1000000\n",
      "z900 is a black bike and costs 800000\n",
      "splendor is a red bike and costs 60000\n"
     ]
    }
   ],
   "source": [
    "bike3.information()\n",
    "bike2.information()\n",
    "bike1.information()"
   ]
  },
  {
   "cell_type": "code",
   "execution_count": 20,
   "id": "8fb65e10",
   "metadata": {},
   "outputs": [
    {
     "name": "stdout",
     "output_type": "stream",
     "text": [
      "not available\n",
      "quickshift available\n",
      "quickshift available\n"
     ]
    }
   ],
   "source": [
    "bike1.quickshift()\n",
    "bike2.quickshift()\n",
    "bike3.quickshift()"
   ]
  },
  {
   "cell_type": "code",
   "execution_count": null,
   "id": "af3a2f77",
   "metadata": {},
   "outputs": [],
   "source": []
  }
 ],
 "metadata": {
  "kernelspec": {
   "display_name": "Python 3",
   "language": "python",
   "name": "python3"
  },
  "language_info": {
   "codemirror_mode": {
    "name": "ipython",
    "version": 3
   },
   "file_extension": ".py",
   "mimetype": "text/x-python",
   "name": "python",
   "nbconvert_exporter": "python",
   "pygments_lexer": "ipython3",
   "version": "3.13.5"
  }
 },
 "nbformat": 4,
 "nbformat_minor": 5
}

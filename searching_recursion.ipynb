{
 "cells": [
  {
   "cell_type": "markdown",
   "id": "cf52b359",
   "metadata": {},
   "source": [
    "linear Search"
   ]
  },
  {
   "cell_type": "code",
   "execution_count": 3,
   "id": "883ec527",
   "metadata": {},
   "outputs": [],
   "source": [
    "def linear_search(arr, target,index=0):\n",
    "    \n",
    "    if len(arr) == index:\n",
    "        return -1\n",
    "    if arr[index] == target:\n",
    "        return index +1\n",
    "    else:\n",
    "        return linear_search(arr,target,index+1)\n"
   ]
  },
  {
   "cell_type": "code",
   "execution_count": 5,
   "id": "a45e992c",
   "metadata": {},
   "outputs": [
    {
     "data": {
      "text/plain": [
       "-1"
      ]
     },
     "execution_count": 5,
     "metadata": {},
     "output_type": "execute_result"
    }
   ],
   "source": [
    "linear_search([1,2,3,4,5,6,7],9)"
   ]
  },
  {
   "cell_type": "markdown",
   "id": "4b6226c7",
   "metadata": {},
   "source": [
    "Binary Search\n"
   ]
  },
  {
   "cell_type": "code",
   "execution_count": 12,
   "id": "a671b00b",
   "metadata": {},
   "outputs": [],
   "source": [
    "def binarysearch(arr,x,s,e):\n",
    "    while s<e:\n",
    "        mid = (s+e)//2\n",
    "        if arr[mid] == x:\n",
    "            return mid\n",
    "        elif arr[mid]<x:\n",
    "            return binarysearch(arr,x,mid+1,e)\n",
    "        else:\n",
    "            return binarysearch(arr,x,mid+1,e)\n",
    "    return -1\n",
    "\n",
    "\n",
    "def bisearch(arr,x):\n",
    "    return binarysearch(arr,x,0,len(arr)-1)\n",
    "            \n",
    "    \n",
    "     "
   ]
  },
  {
   "cell_type": "code",
   "execution_count": 14,
   "id": "5015a9e2",
   "metadata": {},
   "outputs": [
    {
     "data": {
      "text/plain": [
       "3"
      ]
     },
     "execution_count": 14,
     "metadata": {},
     "output_type": "execute_result"
    }
   ],
   "source": [
    "bisearch([1,2,3,4,5],4)"
   ]
  },
  {
   "cell_type": "markdown",
   "id": "eb10ec1b",
   "metadata": {},
   "source": [
    "Merge sort\n"
   ]
  },
  {
   "cell_type": "code",
   "execution_count": 26,
   "id": "58775dd9",
   "metadata": {},
   "outputs": [],
   "source": [
    "def merge(arr, s, mid, e):\n",
    "    i = s\n",
    "    j = mid + 1\n",
    "    ans = []\n",
    "\n",
    "    while i <= mid and j <= e:\n",
    "        if arr[i] < arr[j]:\n",
    "            ans.append(arr[i])\n",
    "            i += 1\n",
    "        elif arr[i] > arr[j]:\n",
    "            ans.append(arr[j])\n",
    "            j += 1\n",
    "        else:\n",
    "            ans.append(arr[i])\n",
    "            ans.append(arr[j])\n",
    "            i += 1\n",
    "            j += 1\n",
    "\n",
    "    while i <= mid:\n",
    "        ans.append(arr[i])\n",
    "        i += 1\n",
    "\n",
    "    while j <= e:\n",
    "        ans.append(arr[j])\n",
    "        j += 1\n",
    "\n",
    "    # Copy back to original array\n",
    "    for k in range(len(ans)):\n",
    "        arr[s + k] = ans[k]\n"
   ]
  },
  {
   "cell_type": "code",
   "execution_count": 27,
   "id": "170c880c",
   "metadata": {},
   "outputs": [],
   "source": [
    "def mergesort(arr, s, e):\n",
    "    if s >= e:\n",
    "        return\n",
    "\n",
    "    mid = s + (e - s) // 2\n",
    "    mergesort(arr, s, mid)\n",
    "    mergesort(arr, mid + 1, e)\n",
    "    merge(arr, s, mid, e)"
   ]
  },
  {
   "cell_type": "code",
   "execution_count": 32,
   "id": "0d1470e4",
   "metadata": {},
   "outputs": [],
   "source": [
    "arr = [4,3,1,2,2,2,8,5]"
   ]
  },
  {
   "cell_type": "code",
   "execution_count": 33,
   "id": "a2e4be1c",
   "metadata": {},
   "outputs": [],
   "source": [
    "mergesort(arr,0,len(arr)-1)"
   ]
  },
  {
   "cell_type": "code",
   "execution_count": 34,
   "id": "2c89f7d3",
   "metadata": {},
   "outputs": [
    {
     "data": {
      "text/plain": [
       "[1, 2, 2, 2, 3, 4, 5, 8]"
      ]
     },
     "execution_count": 34,
     "metadata": {},
     "output_type": "execute_result"
    }
   ],
   "source": [
    "arr"
   ]
  },
  {
   "cell_type": "markdown",
   "id": "e9cf67f6",
   "metadata": {},
   "source": [
    "Quick Sort\n"
   ]
  },
  {
   "cell_type": "code",
   "execution_count": 58,
   "id": "c993d973",
   "metadata": {},
   "outputs": [],
   "source": [
    "def partition(arr, low, high):\n",
    "    pivot = arr[low]\n",
    "    i = low + 1\n",
    "    j = high\n",
    "\n",
    "    while i<j:\n",
    "        while i <= high-1 and arr[i] <= pivot:\n",
    "            i += 1\n",
    "        while j >= low +1 and arr[j] > pivot:\n",
    "            j -= 1\n",
    "        if i < j:\n",
    "            arr[i], arr[j] = arr[j], arr[i]\n",
    "        \n",
    "\n",
    "    arr[low], arr[j] = arr[j], arr[low]\n",
    "    return j\n"
   ]
  },
  {
   "cell_type": "code",
   "execution_count": 59,
   "id": "88487913",
   "metadata": {},
   "outputs": [],
   "source": [
    "def quicksort(arr,low,high):\n",
    "    if low<high:\n",
    "        pindex = partition(arr,low,high)\n",
    "        quicksort(arr,low,pindex-1)\n",
    "        quicksort(arr,pindex+1,high)"
   ]
  },
  {
   "cell_type": "code",
   "execution_count": 60,
   "id": "6387075f",
   "metadata": {},
   "outputs": [],
   "source": [
    "arr = [3,6,2,1,1,1,5,8,9]\n",
    "quicksort(arr,0,len(arr)-1)"
   ]
  },
  {
   "cell_type": "code",
   "execution_count": 61,
   "id": "6112948e",
   "metadata": {},
   "outputs": [
    {
     "data": {
      "text/plain": [
       "[1, 1, 1, 2, 3, 5, 6, 9, 8]"
      ]
     },
     "execution_count": 61,
     "metadata": {},
     "output_type": "execute_result"
    }
   ],
   "source": [
    "arr"
   ]
  },
  {
   "cell_type": "code",
   "execution_count": null,
   "id": "9f5f7a63",
   "metadata": {},
   "outputs": [],
   "source": []
  }
 ],
 "metadata": {
  "kernelspec": {
   "display_name": "Python 3",
   "language": "python",
   "name": "python3"
  },
  "language_info": {
   "codemirror_mode": {
    "name": "ipython",
    "version": 3
   },
   "file_extension": ".py",
   "mimetype": "text/x-python",
   "name": "python",
   "nbconvert_exporter": "python",
   "pygments_lexer": "ipython3",
   "version": "3.13.5"
  }
 },
 "nbformat": 4,
 "nbformat_minor": 5
}

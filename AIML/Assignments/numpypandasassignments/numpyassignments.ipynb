{
 "cells": [
  {
   "cell_type": "markdown",
   "metadata": {},
   "source": [
    "# Module: NumPy Assignments\n",
    "## Lesson: NumPy\n",
    "### Assignment 1: Array Creation and Manipulation\n",
    "\n",
    "1. Create a NumPy array of shape (5, 5) filled with random integers between 1 and 20. Replace all the elements in the third column with 1.\n",
    "2. Create a NumPy array of shape (4, 4) with values from 1 to 16. Replace the diagonal elements with 0.\n",
    "\n",
    "### Assignment 2: Array Indexing and Slicing\n",
    "\n",
    "1. Create a NumPy array of shape (6, 6) with values from 1 to 36. Extract the sub-array consisting of the 3rd to 5th rows and 2nd to 4th columns.\n",
    "2. Create a NumPy array of shape (5, 5) with random integers. Extract the elements on the border.\n",
    "\n",
    "### Assignment 3: Array Operations\n",
    "\n",
    "1. Create two NumPy arrays of shape (3, 4) filled with random integers. Perform element-wise addition, subtraction, multiplication, and division.\n",
    "2. Create a NumPy array of shape (4, 4) with values from 1 to 16. Compute the row-wise and column-wise sum.\n",
    "\n",
    "### Assignment 4: Statistical Operations\n",
    "\n",
    "1. Create a NumPy array of shape (5, 5) filled with random integers. Compute the mean, median, standard deviation, and variance of the array.\n",
    "2. Create a NumPy array of shape (3, 3) with values from 1 to 9. Normalize the array (i.e., scale the values to have a mean of 0 and a standard deviation of 1).\n",
    "\n",
    "### Assignment 5: Broadcasting\n",
    "\n",
    "1. Create a NumPy array of shape (3, 3) filled with random integers. Add a 1D array of shape (3,) to each row of the 2D array using broadcasting.\n",
    "2. Create a NumPy array of shape (4, 4) filled with random integers. Subtract a 1D array of shape (4,) from each column of the 2D array using broadcasting.\n",
    "\n",
    "### Assignment 6: Linear Algebra\n",
    "\n",
    "1. Create a NumPy array of shape (3, 3) representing a matrix. Compute its determinant, inverse, and eigenvalues.\n",
    "2. Create two NumPy arrays of shape (2, 3) and (3, 2). Perform matrix multiplication on these arrays.\n",
    "\n",
    "### Assignment 7: Advanced Array Manipulation\n",
    "\n",
    "1. Create a NumPy array of shape (3, 3) with values from 1 to 9. Reshape the array to shape (1, 9) and then to shape (9, 1).\n",
    "2. Create a NumPy array of shape (5, 5) filled with random integers. Flatten the array and then reshape it back to (5, 5).\n",
    "\n",
    "### Assignment 8: Fancy Indexing and Boolean Indexing\n",
    "\n",
    "1. Create a NumPy array of shape (5, 5) filled with random integers. Use fancy indexing to extract the elements at the corners of the array.\n",
    "2. Create a NumPy array of shape (4, 4) filled with random integers. Use boolean indexing to set all elements greater than 10 to 10.\n",
    "\n",
    "### Assignment 9: Structured Arrays\n",
    "\n",
    "1. Create a structured array with fields 'name' (string), 'age' (integer), and 'weight' (float). Add some data and sort the array by age.\n",
    "2. Create a structured array with fields 'x' and 'y' (both integers). Add some data and compute the Euclidean distance between each pair of points.\n",
    "\n",
    "### Assignment 10: Masked Arrays\n",
    "\n",
    "1. Create a masked array of shape (4, 4) with random integers and mask the elements greater than 10. Compute the sum of the unmasked elements.\n",
    "2. Create a masked array of shape (3, 3) with random integers and mask the diagonal elements. Replace the masked elements with the mean of the unmasked elements."
   ]
  },
  {
   "cell_type": "code",
   "execution_count": 10,
   "metadata": {},
   "outputs": [],
   "source": [
    "import numpy as np\n",
    "import random2"
   ]
  },
  {
   "cell_type": "code",
   "execution_count": 20,
   "id": "ac72e736",
   "metadata": {},
   "outputs": [
    {
     "data": {
      "text/plain": [
       "array([[12, 11,  9, 17,  6],\n",
       "       [ 5,  2,  3,  8, 14],\n",
       "       [13,  5, 13, 10,  7],\n",
       "       [ 2, 20, 18,  6,  8],\n",
       "       [ 2, 16, 19, 14, 15]])"
      ]
     },
     "execution_count": 20,
     "metadata": {},
     "output_type": "execute_result"
    }
   ],
   "source": [
    "arr = np.random.randint(1,21,size=(5,5))\n",
    "arr"
   ]
  },
  {
   "cell_type": "code",
   "execution_count": 21,
   "id": "93d03526",
   "metadata": {},
   "outputs": [],
   "source": [
    "arr[2:3]=1"
   ]
  },
  {
   "cell_type": "code",
   "execution_count": 22,
   "id": "fdf26420",
   "metadata": {},
   "outputs": [
    {
     "data": {
      "text/plain": [
       "array([[12, 11,  9, 17,  6],\n",
       "       [ 5,  2,  3,  8, 14],\n",
       "       [ 1,  1,  1,  1,  1],\n",
       "       [ 2, 20, 18,  6,  8],\n",
       "       [ 2, 16, 19, 14, 15]])"
      ]
     },
     "execution_count": 22,
     "metadata": {},
     "output_type": "execute_result"
    }
   ],
   "source": [
    "arr"
   ]
  },
  {
   "cell_type": "code",
   "execution_count": 23,
   "id": "a8790676",
   "metadata": {},
   "outputs": [],
   "source": [
    "arr2 = np.random.randint(1,17,size=(4,4))"
   ]
  },
  {
   "cell_type": "code",
   "execution_count": 24,
   "id": "9e80b482",
   "metadata": {},
   "outputs": [
    {
     "data": {
      "text/plain": [
       "array([[ 5, 15,  3, 14],\n",
       "       [ 8,  4,  6,  6],\n",
       "       [ 4, 10,  6,  7],\n",
       "       [ 5, 16,  3, 14]])"
      ]
     },
     "execution_count": 24,
     "metadata": {},
     "output_type": "execute_result"
    }
   ],
   "source": [
    "arr2"
   ]
  },
  {
   "cell_type": "code",
   "execution_count": 25,
   "id": "cfa2fc93",
   "metadata": {},
   "outputs": [],
   "source": [
    "for i in range(4):\n",
    "    arr2[i][i] = 0"
   ]
  },
  {
   "cell_type": "code",
   "execution_count": 26,
   "id": "94f2a463",
   "metadata": {},
   "outputs": [
    {
     "data": {
      "text/plain": [
       "array([[ 0, 15,  3, 14],\n",
       "       [ 8,  0,  6,  6],\n",
       "       [ 4, 10,  0,  7],\n",
       "       [ 5, 16,  3,  0]])"
      ]
     },
     "execution_count": 26,
     "metadata": {},
     "output_type": "execute_result"
    }
   ],
   "source": [
    "arr2"
   ]
  },
  {
   "cell_type": "code",
   "execution_count": 28,
   "id": "ca6e17cc",
   "metadata": {},
   "outputs": [
    {
     "data": {
      "text/plain": [
       "array([[30, 19, 20, 20, 20, 12],\n",
       "       [31, 13,  4, 13, 14, 10],\n",
       "       [33,  9, 25, 13, 10, 13],\n",
       "       [15, 18, 23, 24, 10,  4],\n",
       "       [ 9, 25,  9,  9, 19,  9],\n",
       "       [18, 12, 34, 28, 34, 26]])"
      ]
     },
     "execution_count": 28,
     "metadata": {},
     "output_type": "execute_result"
    }
   ],
   "source": [
    "arr3 = np.random.randint(1,37,size=(6,6))\n",
    "arr3"
   ]
  },
  {
   "cell_type": "code",
   "execution_count": 29,
   "id": "fc95024b",
   "metadata": {},
   "outputs": [
    {
     "data": {
      "text/plain": [
       "array([[33,  9, 25, 13, 10, 13],\n",
       "       [15, 18, 23, 24, 10,  4]])"
      ]
     },
     "execution_count": 29,
     "metadata": {},
     "output_type": "execute_result"
    }
   ],
   "source": [
    "arr = arr3[2:4]\n",
    "arr"
   ]
  },
  {
   "cell_type": "code",
   "execution_count": 38,
   "id": "d642dca7",
   "metadata": {},
   "outputs": [],
   "source": [
    "arr = arr3[0:6,3:5]"
   ]
  },
  {
   "cell_type": "code",
   "execution_count": 39,
   "id": "18432ed7",
   "metadata": {},
   "outputs": [
    {
     "data": {
      "text/plain": [
       "array([[20, 20],\n",
       "       [13, 14],\n",
       "       [13, 10],\n",
       "       [24, 10],\n",
       "       [ 9, 19],\n",
       "       [28, 34]])"
      ]
     },
     "execution_count": 39,
     "metadata": {},
     "output_type": "execute_result"
    }
   ],
   "source": [
    "arr"
   ]
  },
  {
   "cell_type": "code",
   "execution_count": 42,
   "id": "d5cf43f3",
   "metadata": {},
   "outputs": [
    {
     "name": "stdout",
     "output_type": "stream",
     "text": [
      "[[ 3 12 15  2 16]\n",
      " [ 8 16  3 20 12]\n",
      " [ 7 19 15 16 19]\n",
      " [14 16 15  9 15]\n",
      " [ 9  3 19 16 14]]\n"
     ]
    },
    {
     "data": {
      "text/plain": [
       "array([[30, 32, 38, 40, 33],\n",
       "       [39, 40, 21, 28, 38],\n",
       "       [35, 40, 39, 22, 32],\n",
       "       [26, 32, 37, 34, 25],\n",
       "       [33, 22, 24, 32, 32]])"
      ]
     },
     "execution_count": 42,
     "metadata": {},
     "output_type": "execute_result"
    }
   ],
   "source": [
    "arr1 = np.random.randint(1,21,size=(5,5))\n",
    "arr2 = np.random.randint(21,41,size=(5,5))\n",
    "print(arr1) \n",
    "arr2"
   ]
  },
  {
   "cell_type": "code",
   "execution_count": 43,
   "id": "965d464b",
   "metadata": {},
   "outputs": [
    {
     "data": {
      "text/plain": [
       "array([[33, 44, 53, 42, 49],\n",
       "       [47, 56, 24, 48, 50],\n",
       "       [42, 59, 54, 38, 51],\n",
       "       [40, 48, 52, 43, 40],\n",
       "       [42, 25, 43, 48, 46]])"
      ]
     },
     "execution_count": 43,
     "metadata": {},
     "output_type": "execute_result"
    }
   ],
   "source": [
    "add = arr1 + arr2\n",
    "add"
   ]
  },
  {
   "cell_type": "code",
   "execution_count": 44,
   "id": "885d2dfe",
   "metadata": {},
   "outputs": [
    {
     "data": {
      "text/plain": [
       "array([[27, 20, 23, 38, 17],\n",
       "       [31, 24, 18,  8, 26],\n",
       "       [28, 21, 24,  6, 13],\n",
       "       [12, 16, 22, 25, 10],\n",
       "       [24, 19,  5, 16, 18]])"
      ]
     },
     "execution_count": 44,
     "metadata": {},
     "output_type": "execute_result"
    }
   ],
   "source": [
    "sub = arr2 - arr1\n",
    "sub"
   ]
  },
  {
   "cell_type": "code",
   "execution_count": 46,
   "id": "ff20e4d1",
   "metadata": {},
   "outputs": [
    {
     "data": {
      "text/plain": [
       "array([[ 90, 384, 570,  80, 528],\n",
       "       [312, 640,  63, 560, 456],\n",
       "       [245, 760, 585, 352, 608],\n",
       "       [364, 512, 555, 306, 375],\n",
       "       [297,  66, 456, 512, 448]])"
      ]
     },
     "execution_count": 46,
     "metadata": {},
     "output_type": "execute_result"
    }
   ],
   "source": [
    "mul = arr1 * arr2\n",
    "mul"
   ]
  },
  {
   "cell_type": "code",
   "execution_count": 48,
   "id": "43ea76c8",
   "metadata": {},
   "outputs": [
    {
     "data": {
      "text/plain": [
       "array([[10,  2,  2, 20,  2],\n",
       "       [ 4,  2,  7,  1,  3],\n",
       "       [ 5,  2,  2,  1,  1],\n",
       "       [ 1,  2,  2,  3,  1],\n",
       "       [ 3,  7,  1,  2,  2]])"
      ]
     },
     "execution_count": 48,
     "metadata": {},
     "output_type": "execute_result"
    }
   ],
   "source": [
    "div = arr2 // arr1\n",
    "div"
   ]
  },
  {
   "cell_type": "code",
   "execution_count": 50,
   "id": "3d64ea1c",
   "metadata": {},
   "outputs": [
    {
     "data": {
      "text/plain": [
       "array([[10, 10, 12,  1],\n",
       "       [13, 13, 12, 14],\n",
       "       [ 1,  4,  1,  4],\n",
       "       [ 1, 12,  7, 14]])"
      ]
     },
     "execution_count": 50,
     "metadata": {},
     "output_type": "execute_result"
    }
   ],
   "source": [
    "arr = np.random.randint(1,17,size=(4,4))\n",
    "arr"
   ]
  },
  {
   "cell_type": "code",
   "execution_count": 52,
   "id": "e5fdb961",
   "metadata": {},
   "outputs": [
    {
     "data": {
      "text/plain": [
       "array([33, 52, 10, 34])"
      ]
     },
     "execution_count": 52,
     "metadata": {},
     "output_type": "execute_result"
    }
   ],
   "source": [
    "rowsum = np.sum(arr,axis=1)\n",
    "rowsum"
   ]
  },
  {
   "cell_type": "code",
   "execution_count": 53,
   "id": "c89ac39e",
   "metadata": {},
   "outputs": [
    {
     "data": {
      "text/plain": [
       "array([25, 39, 32, 33])"
      ]
     },
     "execution_count": 53,
     "metadata": {},
     "output_type": "execute_result"
    }
   ],
   "source": [
    "colsum = np.sum(arr,axis=0)\n",
    "colsum"
   ]
  },
  {
   "cell_type": "code",
   "execution_count": 56,
   "id": "9818f566",
   "metadata": {},
   "outputs": [],
   "source": [
    "# ### Assignment 4: Statistical Operations\n",
    "\n",
    "# 1. Create a NumPy array of shape (5, 5) filled with random integers. Compute the mean, median, standard deviation, and variance of the array.\n",
    "# 2. Create a NumPy array of shape (3, 3) with values from 1 to 9. Normalize the array (i.e., scale the values to have a mean of 0 and a standard deviation of 1)."
   ]
  },
  {
   "cell_type": "code",
   "execution_count": 60,
   "id": "0e60f498",
   "metadata": {},
   "outputs": [
    {
     "data": {
      "text/plain": [
       "array([[ 1,  2,  3,  4,  5],\n",
       "       [ 6,  7,  8,  9, 10],\n",
       "       [11, 12, 13, 14, 15],\n",
       "       [16, 17, 18, 19, 20],\n",
       "       [21, 22, 23, 24, 25]])"
      ]
     },
     "execution_count": 60,
     "metadata": {},
     "output_type": "execute_result"
    }
   ],
   "source": [
    "arr = np.arange(1,26).reshape(5,5)\n",
    "arr"
   ]
  },
  {
   "cell_type": "code",
   "execution_count": 61,
   "id": "4505f1b0",
   "metadata": {},
   "outputs": [
    {
     "name": "stdout",
     "output_type": "stream",
     "text": [
      "mean =  13.0\n",
      "median =  13.0\n",
      "std =  7.211102550927978\n",
      "var =  52.0\n"
     ]
    }
   ],
   "source": [
    "print (\"mean = \",np.mean(arr))\n",
    "print (\"median = \",np.median(arr))\n",
    "print (\"std = \",np.std(arr))\n",
    "print (\"var = \",np.var(arr))\n"
   ]
  },
  {
   "cell_type": "code",
   "execution_count": null,
   "id": "b58146e7",
   "metadata": {},
   "outputs": [
    {
     "name": "stdout",
     "output_type": "stream",
     "text": [
      "\n",
      "Normalized array:\n",
      " [[-2. -2. -2. -2. -2.]\n",
      " [-1. -1. -1. -1. -1.]\n",
      " [-1. -1.  0.  0.  0.]\n",
      " [ 0.  0.  0.  0.  0.]\n",
      " [ 1.  1.  1.  1.  1.]]\n"
     ]
    }
   ],
   "source": [
    "# Compute mean and standard deviation\n",
    "mean = arr.mean()\n",
    "std = arr.std()\n",
    "\n",
    "# Normalize\n",
    "normalized_arr = (arr - mean) / std\n",
    "print(\"\\nNormalized array:\\n\", normalized_arr)\n"
   ]
  },
  {
   "cell_type": "code",
   "execution_count": 67,
   "id": "76769703",
   "metadata": {},
   "outputs": [
    {
     "data": {
      "text/plain": [
       "np.float64(-0.48)"
      ]
     },
     "execution_count": 67,
     "metadata": {},
     "output_type": "execute_result"
    }
   ],
   "source": [
    "a =normalized_arr.mean()\n",
    "a\n"
   ]
  },
  {
   "cell_type": "code",
   "execution_count": 68,
   "id": "2b0fd67d",
   "metadata": {},
   "outputs": [
    {
     "name": "stdout",
     "output_type": "stream",
     "text": [
      "\n",
      "Column vector:\n",
      " [[1]\n",
      " [2]\n",
      " [3]]\n",
      "Shape: (3, 1)\n"
     ]
    }
   ],
   "source": [
    "col_vec = np.array([[1], [2], [3]])   # explicitly column-shaped\n",
    "print(\"\\nColumn vector:\\n\", col_vec)\n",
    "print(\"Shape:\", col_vec.shape)"
   ]
  },
  {
   "cell_type": "code",
   "execution_count": null,
   "id": "d5b6cd33",
   "metadata": {},
   "outputs": [
    {
     "name": "stdout",
     "output_type": "stream",
     "text": [
      "Original 3x3 array:\n",
      " [[6 9 3]\n",
      " [7 8 6]\n",
      " [8 9 5]]\n"
     ]
    }
   ],
   "source": [
    "\n",
    "arr = np.random.randint(1, 11, size=(3, 3))\n",
    "print(\"Original 3x3 array:\\n\", arr)\n"
   ]
  },
  {
   "cell_type": "code",
   "execution_count": 70,
   "id": "062801f7",
   "metadata": {},
   "outputs": [
    {
     "name": "stdout",
     "output_type": "stream",
     "text": [
      "\n",
      "Result after broadcasting:\n",
      " [[ 7 10  4]\n",
      " [ 9 10  8]\n",
      " [11 12  8]]\n"
     ]
    }
   ],
   "source": [
    "result = arr + col_vec\n",
    "print(\"\\nResult after broadcasting:\\n\", result)\n",
    "\n"
   ]
  },
  {
   "cell_type": "code",
   "execution_count": null,
   "id": "550b1d6f",
   "metadata": {},
   "outputs": [],
   "source": []
  }
 ],
 "metadata": {
  "kernelspec": {
   "display_name": "Python 3",
   "language": "python",
   "name": "python3"
  },
  "language_info": {
   "codemirror_mode": {
    "name": "ipython",
    "version": 3
   },
   "file_extension": ".py",
   "mimetype": "text/x-python",
   "name": "python",
   "nbconvert_exporter": "python",
   "pygments_lexer": "ipython3",
   "version": "3.13.5"
  }
 },
 "nbformat": 4,
 "nbformat_minor": 5
}

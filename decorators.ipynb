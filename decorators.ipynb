{
 "cells": [
  {
   "cell_type": "markdown",
   "id": "237bcdb3",
   "metadata": {},
   "source": [
    "Decoratoes are the advanced python concpet which allow us to modify the behaviour of the class method .\n",
    "basically it adds functionality to the function without  modifying their actual code \n",
    "\n",
    "function copy \n",
    "closures\n",
    "decorators"
   ]
  },
  {
   "cell_type": "code",
   "execution_count": 11,
   "id": "1e883f52",
   "metadata": {},
   "outputs": [],
   "source": [
    "#function copy\n",
    "\n",
    "def welcome():\n",
    "    return(\"Welcome to the world of python\")"
   ]
  },
  {
   "cell_type": "code",
   "execution_count": 12,
   "id": "5afb8369",
   "metadata": {},
   "outputs": [
    {
     "name": "stdout",
     "output_type": "stream",
     "text": [
      "Welcome to the world of python\n",
      "Welcome to the world of python\n"
     ]
    }
   ],
   "source": [
    "wel = welcome\n",
    "print(wel())\n",
    "\n",
    "del welcome\n",
    "\n",
    "print(wel())"
   ]
  },
  {
   "cell_type": "code",
   "execution_count": 20,
   "id": "e9dc4559",
   "metadata": {},
   "outputs": [],
   "source": [
    "#closures\n",
    "def outer_function():\n",
    "    def inner_function():\n",
    "        print (\"Hello from the inner function!\")\n",
    "    return inner_function"
   ]
  },
  {
   "cell_type": "code",
   "execution_count": 21,
   "id": "60fd33d4",
   "metadata": {},
   "outputs": [
    {
     "data": {
      "text/plain": [
       "<function __main__.outer_function.<locals>.inner_function()>"
      ]
     },
     "execution_count": 21,
     "metadata": {},
     "output_type": "execute_result"
    }
   ],
   "source": [
    "outer_function()"
   ]
  },
  {
   "cell_type": "code",
   "execution_count": 23,
   "id": "8b2de911",
   "metadata": {},
   "outputs": [
    {
     "name": "stdout",
     "output_type": "stream",
     "text": [
      "<function outer_function.<locals>.inner_function at 0x10dad5440>\n"
     ]
    }
   ],
   "source": [
    "print(outer_function())"
   ]
  },
  {
   "cell_type": "code",
   "execution_count": null,
   "id": "a4ad2248",
   "metadata": {},
   "outputs": [],
   "source": []
  },
  {
   "cell_type": "code",
   "execution_count": null,
   "id": "19404a90",
   "metadata": {},
   "outputs": [],
   "source": []
  },
  {
   "cell_type": "code",
   "execution_count": null,
   "id": "910855a2",
   "metadata": {},
   "outputs": [],
   "source": []
  },
  {
   "cell_type": "code",
   "execution_count": null,
   "id": "27d7ea13",
   "metadata": {},
   "outputs": [],
   "source": []
  }
 ],
 "metadata": {
  "kernelspec": {
   "display_name": "Python 3",
   "language": "python",
   "name": "python3"
  },
  "language_info": {
   "codemirror_mode": {
    "name": "ipython",
    "version": 3
   },
   "file_extension": ".py",
   "mimetype": "text/x-python",
   "name": "python",
   "nbconvert_exporter": "python",
   "pygments_lexer": "ipython3",
   "version": "3.13.5"
  }
 },
 "nbformat": 4,
 "nbformat_minor": 5
}

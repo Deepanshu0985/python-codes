{
 "cells": [
  {
   "cell_type": "markdown",
   "id": "59a1c42b",
   "metadata": {},
   "source": [
    "operator overloading is a idea of giving a special meaning to an already existing operators like +-= etc without changing its actual meaning it is an example of compile time polymorphism . this is achieved in python by overriding magin method ,\n",
    "magic methos are the dunder method(ends and starts with double underscore) in python\n",
    "to define the representation of the object "
   ]
  },
  {
   "cell_type": "markdown",
   "id": "30226910",
   "metadata": {},
   "source": [
    "some of the the magic methods are "
   ]
  },
  {
   "cell_type": "code",
   "execution_count": 1,
   "id": "aefff4e9",
   "metadata": {},
   "outputs": [],
   "source": [
    "class person:\n",
    "    pass"
   ]
  },
  {
   "cell_type": "code",
   "execution_count": 2,
   "id": "fef12f19",
   "metadata": {},
   "outputs": [
    {
     "data": {
      "text/plain": [
       "['__class__',\n",
       " '__delattr__',\n",
       " '__dict__',\n",
       " '__dir__',\n",
       " '__doc__',\n",
       " '__eq__',\n",
       " '__firstlineno__',\n",
       " '__format__',\n",
       " '__ge__',\n",
       " '__getattribute__',\n",
       " '__getstate__',\n",
       " '__gt__',\n",
       " '__hash__',\n",
       " '__init__',\n",
       " '__init_subclass__',\n",
       " '__le__',\n",
       " '__lt__',\n",
       " '__module__',\n",
       " '__ne__',\n",
       " '__new__',\n",
       " '__reduce__',\n",
       " '__reduce_ex__',\n",
       " '__repr__',\n",
       " '__setattr__',\n",
       " '__sizeof__',\n",
       " '__static_attributes__',\n",
       " '__str__',\n",
       " '__subclasshook__',\n",
       " '__weakref__']"
      ]
     },
     "execution_count": 2,
     "metadata": {},
     "output_type": "execute_result"
    }
   ],
   "source": [
    "Person = person()\n",
    "\n",
    "dir(Person)"
   ]
  },
  {
   "cell_type": "markdown",
   "id": "15d064c0",
   "metadata": {},
   "source": [
    "the above is all the magic methods"
   ]
  },
  {
   "cell_type": "code",
   "execution_count": 7,
   "id": "3826281c",
   "metadata": {},
   "outputs": [],
   "source": [
    "class vector:\n",
    "    def __init__(self,x,y):\n",
    "        self.x = x\n",
    "        self.y = y\n",
    "        \n",
    "    def __add__(self,other):\n",
    "        return vector(self.x + other.x, self.y + other.y)\n",
    "    def __sub__(self,other):\n",
    "        return vector(self.x - other.x, self.y - other.y)\n",
    "    def __mul__(self,other):\n",
    "        return vector(self.x * other.x, self.y * other.y)\n",
    "    def __truediv__(self,other):\n",
    "        return vector(self.x / other.x, self.y / other.y)\n",
    "    def __floordiv__(self,other):\n",
    "        return vector(self.x // other.x, self.y // other.y)\n",
    "    def __mod__(self,other):\n",
    "        return vector(self.x % other.x, self.y % other.y)\n",
    "    def __pow__(self,other):\n",
    "        return vector(self.x ** other.x, self.y ** other.y)\n",
    "    def __lt__(self,other):\n",
    "        return self.x < other.x and self.y < other.y\n",
    "    def __le__(self,other):\n",
    "        return self.x <= other.x and self.y <= other.y\n",
    "    def __eq__(self,other):\n",
    "        return self.x == other.x and self.y == other.y\n",
    "    def __ne__(self,other):\n",
    "        return self.x != other.x or self.y != other.y\n",
    "    def __gt__(self,other):\n",
    "        return self.x > other.x and self.y > other.y\n",
    "    def __ge__(self,other):\n",
    "        return self.x >= other.x and self.y >= other.y\n",
    "    \n",
    "    def __repr__(self):\n",
    "        return f\"vector({self.x},{self.y})\""
   ]
  },
  {
   "cell_type": "code",
   "execution_count": 8,
   "id": "d2a891a7",
   "metadata": {},
   "outputs": [],
   "source": [
    "vector1 = vector(2,3)\n",
    "vector2 = vector(4,5)"
   ]
  },
  {
   "cell_type": "code",
   "execution_count": 9,
   "id": "d2a19caa",
   "metadata": {},
   "outputs": [
    {
     "name": "stdout",
     "output_type": "stream",
     "text": [
      "vector(6,8)\n",
      "vector(-2,-2)\n",
      "vector(8,15)\n",
      "vector(0.5,0.6)\n",
      "vector(0,0)\n",
      "vector(2,3)\n",
      "vector(16,243)\n",
      "True\n",
      "True\n",
      "False\n",
      "True\n",
      "False\n",
      "False\n"
     ]
    }
   ],
   "source": [
    "print(vector1 + vector2)  # vector(6, 8)\n",
    "print(vector1 - vector2)  # vector(-2, -2)\n",
    "print(vector1 * vector2)  # vector(8, 15)\n",
    "print(vector1 / vector2)  # vector(0.5, 0.6)\n",
    "print(vector1 // vector2)  # vector(0, 0)\n",
    "print(vector1 % vector2)  # vector(2, 3)\n",
    "print(vector1 ** vector2)  # vector(32, 243)\n",
    "print(vector1 < vector2)   # True\n",
    "print(vector1 <= vector2)  # True\n",
    "print(vector1 == vector2)  # False\n",
    "print(vector1 != vector2)  # True\n",
    "print(vector1 > vector2)   # False\n",
    "print(vector1 >= vector2)  # False"
   ]
  },
  {
   "cell_type": "code",
   "execution_count": 1,
   "id": "dac68980",
   "metadata": {},
   "outputs": [],
   "source": [
    "import sys"
   ]
  },
  {
   "cell_type": "code",
   "execution_count": 2,
   "id": "d9894de7",
   "metadata": {},
   "outputs": [
    {
     "data": {
      "text/plain": [
       "56"
      ]
     },
     "execution_count": 2,
     "metadata": {},
     "output_type": "execute_result"
    }
   ],
   "source": [
    "l1 = []\n",
    "sys.getsizeof(l1)  # Size of empty list"
   ]
  },
  {
   "cell_type": "code",
   "execution_count": null,
   "id": "f302bd2d",
   "metadata": {},
   "outputs": [],
   "source": []
  }
 ],
 "metadata": {
  "kernelspec": {
   "display_name": "Python 3",
   "language": "python",
   "name": "python3"
  },
  "language_info": {
   "codemirror_mode": {
    "name": "ipython",
    "version": 3
   },
   "file_extension": ".py",
   "mimetype": "text/x-python",
   "name": "python",
   "nbconvert_exporter": "python",
   "pygments_lexer": "ipython3",
   "version": "3.13.5"
  }
 },
 "nbformat": 4,
 "nbformat_minor": 5
}

{
 "cells": [
  {
   "cell_type": "code",
   "execution_count": 1,
   "id": "0f8cdedb",
   "metadata": {},
   "outputs": [],
   "source": [
    "class Node:\n",
    "    def __init__(self, val):\n",
    "        self.val = val\n",
    "        self.next = None"
   ]
  },
  {
   "cell_type": "code",
   "execution_count": 9,
   "id": "4eae5bbd",
   "metadata": {},
   "outputs": [],
   "source": [
    "def take_input():\n",
    "    val = int(input(\"Enter node value (-1 to end): \"))\n",
    "    head = None\n",
    "    while val != -1:\n",
    "        Newnode = Node(val)\n",
    "        if head is None:\n",
    "            head= Newnode\n",
    "            curr = head\n",
    "        else:\n",
    "            curr.next = Newnode\n",
    "            curr = Newnode\n",
    "        val = int(input(\"Enter node value (-1 to end): \"))\n",
    "    return head\n"
   ]
  },
  {
   "cell_type": "code",
   "execution_count": 11,
   "id": "159d0e98",
   "metadata": {},
   "outputs": [
    {
     "name": "stdout",
     "output_type": "stream",
     "text": [
      "1\n",
      "2\n",
      "3\n",
      "4\n",
      "5\n"
     ]
    }
   ],
   "source": [
    "head = take_input()\n",
    "temp = head\n",
    "while temp:\n",
    "    print(temp.val)\n",
    "    temp = temp.next\n"
   ]
  },
  {
   "cell_type": "code",
   "execution_count": null,
   "id": "0cb1f98e",
   "metadata": {},
   "outputs": [],
   "source": []
  }
 ],
 "metadata": {
  "kernelspec": {
   "display_name": "Python 3",
   "language": "python",
   "name": "python3"
  },
  "language_info": {
   "codemirror_mode": {
    "name": "ipython",
    "version": 3
   },
   "file_extension": ".py",
   "mimetype": "text/x-python",
   "name": "python",
   "nbconvert_exporter": "python",
   "pygments_lexer": "ipython3",
   "version": "3.13.5"
  }
 },
 "nbformat": 4,
 "nbformat_minor": 5
}

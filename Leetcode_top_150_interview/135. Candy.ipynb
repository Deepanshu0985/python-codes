{
 "cells": [
  {
   "cell_type": "code",
   "execution_count": 4,
   "id": "a8fda148",
   "metadata": {},
   "outputs": [],
   "source": [
    "from typing import List\n",
    "class Solution:\n",
    "    def candy1(self, ratings: List[int]) -> int:\n",
    "        n= len(ratings)\n",
    "        left = [1]*n\n",
    "        right = [1]*n\n",
    "        candy = 1\n",
    "\n",
    "        for i in range(1,n):\n",
    "            if ratings[i]>ratings[i-1]:\n",
    "                left[i] =left[i-1]+1\n",
    "\n",
    "        for i in range(n-2,-1,-1):\n",
    "            if ratings[i]>ratings[i+1]:\n",
    "                right[i] =right[i+1]+1\n",
    "        print(left)\n",
    "        print(right)\n",
    "        candies = 0\n",
    "        for i in range(n):\n",
    "            candies += max(left[i], right[i])\n",
    "\n",
    "        return candies\n",
    "            \n",
    "        return 0\n",
    "\n",
    "# Time complexity = O(3n)\n",
    "# Sapce complexity = O(2n)\n",
    "        "
   ]
  },
  {
   "cell_type": "code",
   "execution_count": 5,
   "id": "ea67bf1c",
   "metadata": {},
   "outputs": [],
   "source": [
    "class Solution:\n",
    "    def candy2(self, ratings: List[int]) -> int:\n",
    "        n= len(ratings)\n",
    "        candies = 1\n",
    "        i=1\n",
    "        \n",
    "        while i<n:\n",
    "            peak = 1\n",
    "            if ratings[i] == ratings[i-1]:\n",
    "                candies+=1\n",
    "                i+=1\n",
    "                continue\n",
    "            while i<n and ratings[i]>ratings[i-1]:\n",
    "                peak+=1\n",
    "                candies+=peak\n",
    "                i+=1\n",
    "            down = 1\n",
    "            while i<n and ratings[i]<ratings[i-1]:\n",
    "                candies+=down\n",
    "                down+=1\n",
    "                i+=1\n",
    "                \n",
    "            if  down >= peak:\n",
    "                candies+=(down-peak)\n",
    "        return candies\n",
    "                \n",
    "            "
   ]
  },
  {
   "cell_type": "code",
   "execution_count": 6,
   "id": "f92fb3d9",
   "metadata": {},
   "outputs": [],
   "source": [
    "ratings = [1,0,2]"
   ]
  },
  {
   "cell_type": "code",
   "execution_count": 7,
   "id": "c737afff",
   "metadata": {},
   "outputs": [
    {
     "data": {
      "text/plain": [
       "5"
      ]
     },
     "execution_count": 7,
     "metadata": {},
     "output_type": "execute_result"
    }
   ],
   "source": [
    "obj = Solution()\n",
    "obj.candy2(ratings)"
   ]
  },
  {
   "cell_type": "code",
   "execution_count": null,
   "id": "8acd2634",
   "metadata": {},
   "outputs": [],
   "source": []
  },
  {
   "cell_type": "code",
   "execution_count": null,
   "id": "5d45781a",
   "metadata": {},
   "outputs": [],
   "source": []
  }
 ],
 "metadata": {
  "kernelspec": {
   "display_name": "Python 3",
   "language": "python",
   "name": "python3"
  },
  "language_info": {
   "codemirror_mode": {
    "name": "ipython",
    "version": 3
   },
   "file_extension": ".py",
   "mimetype": "text/x-python",
   "name": "python",
   "nbconvert_exporter": "python",
   "pygments_lexer": "ipython3",
   "version": "3.13.5"
  }
 },
 "nbformat": 4,
 "nbformat_minor": 5
}

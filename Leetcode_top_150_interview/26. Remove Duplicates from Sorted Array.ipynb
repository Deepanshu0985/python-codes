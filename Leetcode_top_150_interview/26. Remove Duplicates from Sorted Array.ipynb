{
 "cells": [
  {
   "cell_type": "code",
   "execution_count": 3,
   "id": "23bb7e0c",
   "metadata": {},
   "outputs": [],
   "source": [
    "def removeDuplicates( nums):\n",
    "    j =0\n",
    "    for i in range (1,len(nums)):\n",
    "        if nums[i]!=nums[j]:\n",
    "            j+=1\n",
    "        nums[j] = nums[i]\n",
    "    return j+1\n"
   ]
  },
  {
   "cell_type": "code",
   "execution_count": 4,
   "id": "74330255",
   "metadata": {},
   "outputs": [],
   "source": [
    "nums = [0,0,1,1,1,2,2,2,3,3,3,4,4,4]\n",
    "j = removeDuplicates(nums)"
   ]
  },
  {
   "cell_type": "code",
   "execution_count": 6,
   "id": "efa42836",
   "metadata": {},
   "outputs": [
    {
     "name": "stdout",
     "output_type": "stream",
     "text": [
      "0 1 2 3 4 "
     ]
    }
   ],
   "source": [
    "for i in range(j):\n",
    "    print(nums[i],end=\" \")"
   ]
  },
  {
   "cell_type": "code",
   "execution_count": null,
   "id": "c12047b1",
   "metadata": {},
   "outputs": [],
   "source": []
  }
 ],
 "metadata": {
  "kernelspec": {
   "display_name": "Python 3",
   "language": "python",
   "name": "python3"
  },
  "language_info": {
   "codemirror_mode": {
    "name": "ipython",
    "version": 3
   },
   "file_extension": ".py",
   "mimetype": "text/x-python",
   "name": "python",
   "nbconvert_exporter": "python",
   "pygments_lexer": "ipython3",
   "version": "3.13.5"
  }
 },
 "nbformat": 4,
 "nbformat_minor": 5
}
